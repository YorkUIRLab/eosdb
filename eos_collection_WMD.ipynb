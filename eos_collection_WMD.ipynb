{
 "cells": [
  {
   "cell_type": "markdown",
   "metadata": {},
   "source": [
    "# Word Mover's Distance"
   ]
  },
  {
   "cell_type": "code",
   "execution_count": 1,
   "metadata": {
    "collapsed": true
   },
   "outputs": [],
   "source": [
    "import pickle\n",
    "from gensim.models import Word2Vec\n",
    "from sklearn.metrics.pairwise import pairwise_distances\n",
    "import numpy as np\n"
   ]
  },
  {
   "cell_type": "code",
   "execution_count": 2,
   "metadata": {
    "collapsed": true
   },
   "outputs": [],
   "source": [
    "# Load EOS processed corpus\n",
    "doc_filepath = 'data/eos/eos_tokenize_all.p'\n",
    "eos_corpus = pickle.load( open( doc_filepath, \"rb\" ) )"
   ]
  },
  {
   "cell_type": "code",
   "execution_count": 3,
   "metadata": {},
   "outputs": [
    {
     "name": "stdout",
     "output_type": "stream",
     "text": [
      "CPU times: user 45.7 s, sys: 232 ms, total: 45.9 s\n",
      "Wall time: 17.7 s\n"
     ]
    }
   ],
   "source": [
    "%%time\n",
    "\n",
    "word2vec_model_file = 'data/eos/word2vec_model'\n",
    "\n",
    "if 1 == 1:\n",
    "    # Train Word2Vec on all the restaurants.\n",
    "    word2vec_model = Word2Vec(eos_corpus, workers=3, size=100)\n",
    "    word2vec_model.init_sims(replace=True)  # Normalizes the vectors in the word2vec class.\n",
    "    word2vec_model.save(word2vec_model_file)\n",
    "\n",
    "else:\n",
    "    word2vec_model = Word2Vec.load(word2vec_model_file)  # you can continue training with the loaded model!"
   ]
  },
  {
   "cell_type": "code",
   "execution_count": 5,
   "metadata": {},
   "outputs": [
    {
     "name": "stdout",
     "output_type": "stream",
     "text": [
      "CPU times: user 0 ns, sys: 0 ns, total: 0 ns\n",
      "Wall time: 6.91 µs\n"
     ]
    }
   ],
   "source": [
    "%time\n",
    "\n",
    "\n",
    "# Initialize WmdSimilarity.\n",
    "from gensim.similarities import WmdSimilarity\n",
    "num_best = 10\n",
    "instance = WmdSimilarity(eos_corpus, word2vec_model, num_best=10)"
   ]
  },
  {
   "cell_type": "code",
   "execution_count": null,
   "metadata": {},
   "outputs": [],
   "source": [
    "\n",
    "A = np.array([[i] for i in range(len(eos_corpus))])\n",
    "\n",
    "def f(x, y):\n",
    "    return word2vec_model.wmdistance(eos_corpus[int(x)], eos_corpus[int(y)])\n",
    "\n",
    "X_wmd_distance = pairwise_distances(A, metric=f, n_jobs=-1)"
   ]
  },
  {
   "cell_type": "code",
   "execution_count": null,
   "metadata": {
    "collapsed": true
   },
   "outputs": [],
   "source": []
  }
 ],
 "metadata": {
  "kernelspec": {
   "display_name": "Python 3",
   "language": "python",
   "name": "python3"
  },
  "language_info": {
   "codemirror_mode": {
    "name": "ipython",
    "version": 3
   },
   "file_extension": ".py",
   "mimetype": "text/x-python",
   "name": "python",
   "nbconvert_exporter": "python",
   "pygments_lexer": "ipython3",
   "version": "3.5.2"
  }
 },
 "nbformat": 4,
 "nbformat_minor": 2
}
