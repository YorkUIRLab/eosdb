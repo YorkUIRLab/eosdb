{
 "cells": [
  {
   "cell_type": "code",
   "execution_count": 1,
   "metadata": {},
   "outputs": [
    {
     "name": "stdout",
     "output_type": "stream",
     "text": [
      "335\n",
      "(\"civil war\" OR \"violence\" OR \"violent\" OR \"conflict\" OR \"fight*\" OR \"killing\" OR \"battle\" OR \"massacre\" OR \"injury\" OR \"butchery\" OR \"explosion\" OR \"car bombs\" OR \"car bombs\" OR \"corpse\" OR \"abduction\" OR \"ambush*\" OR \"suicide\" OR \"suicide bomber*\" OR \"rape\" OR \"persecution\" OR \"assassination\" OR \"terror*\" OR \"militia\" OR \"military base\" OR \"attack*\" OR \"assault\" OR \"gang\" OR \"crime\" OR \"theft\" OR \"clash*\" OR \"fighter*\" OR \"mortar\" OR \"rocket\" OR \"siege\" OR \"shelling\" OR \"shells\" OR \"force*\" OR \"bomb\" OR \"warring\" OR \"gun*\" OR \"soldiers\" OR \"rebel\" OR \"unrest\" OR \"troubled\" OR \"insurgent\" OR \"dead\" OR \"crisis\" OR \"victim\" OR \"detention\" OR \"detention\" OR \"detainee\" OR \"detainee\" OR \"prisoner\" OR \"prisoner\" OR \"detention centre\" OR \"detention centre\" OR \"indiscriminate\" OR \"checkpoint\" OR \"checkpoint\" OR \"operation\" OR \"detention centre\" OR \"torture\" OR \"elements\" OR \"execute\" OR \"execution\" OR \"withdrawal\" OR \"shelling\" OR \"feud\" OR \"weapons\" OR \"kidnapping\" OR \"body\" OR \"ransom\" OR \"ammunition\" OR \"martyr\" OR \"martyred\" OR \"roadside bomb\" OR \"injured\" OR \"rounds\" OR \"patrol\" OR \"victim\" OR \"target\" OR \"target (n)\" OR \"fighter*\" OR \"revolutionary\" OR \"killed\" OR \"blockade\" OR \"arrest\") AND (\"Al Yousifiya\" OR \"Al Muntheriya\" OR \"Hurriya\" OR \"Sab' Albour\" OR \"Baladrooz, Balad Ruz\" OR \"Um Qasr\" OR \"Al Sa'adiya\" OR \"Ninewa, Ninewah, Ninevah, Nineveh, Ninawa, Ninawah\" OR \"iraq*\" OR \"Jurf al-Sakhar\" OR \"Iskandariya\" OR \"Zakho\" OR \"Al Majid\" OR \"Ghazaliya\" OR \"Al Fuhood\" OR \"Sinjar\" OR \"Garma, Karma\" OR \"Haqlaniya\" OR \"Khalidiya\" OR \"Al Fajr\" OR \"Najaf CIty\" OR \"Al Tahaddi\" OR \"Zubaidya\" OR \"Shaikh Sa'ad\" OR \"Al Hammar\" OR \"Al Nile\" OR \"Washash\" OR \"Hitteen\" OR \"Shoala/Shuala\" OR \"Baghdad City districts:\" OR \"Belatt Al Shuhada'a\" OR \"Al Abassi\" OR \"Talha\" OR \"Al Sider\" OR \"Al Seniyah\" OR \"Rania\" OR \"Sadr City\" OR \"Ubaidi, Obaidi\" OR \"Al Mejar Al Kabi\" OR \"Kifl\" OR \"Kan’aan, Kanaan\" OR \"Ibnil Haythem\" OR \"Al Salman\" OR \"Al Dbeer\" OR \"Ba’sheeqa\" OR \"Babil\" OR \"Al Ahrar\" OR \"syria*\" OR \"Musayab, Musayyib, Musayib, Musayyab\" OR \"Al Sanniya\" OR \"Mishkhab\" OR \"Habbaniya\" OR \"Hubhib\" OR \"Hamza\" OR \"Kufa\" OR \"Al Nashwa\" OR \"Taji\" OR \"Al Noor\" OR \"Al Abbasiya\" OR \"Hammam Al Aleel\" OR \"Al Aqsa\" OR \"Mahmudiya\" OR \"Ali Alsharqi\" OR \"Al Salam\" OR \"Qal'at Saleh\" OR \"Saidiya\" OR \"Tikrit\" OR \"Zafraniya, Zafaraniya\" OR \"Choman\" OR \"Hayfa\" OR \"Al Nasr\" OR \"Kadhimyah, Kadhimiya\" OR \"Al Ton Kubri\" OR \"Abi Tammam\" OR \"Waziriya\" OR \"Al Islah\" OR \"Al Shamiya\" OR \"Babylon\" OR \"Tooz\" OR \"Hamdan\" OR \"Doura, Dura\" OR \"Al Chibayish\" OR \"Rijal Al A'mal\" OR \"Al Eshaqi\" OR \"Al Helall\" OR \"Safwan\" OR \"Heet, Hit\" OR \"Husseiniyah, Husseiniya\" OR \"Karmat Beni Sa'eed\" OR \"Kirkuk\" OR \"Al Qayara\" OR \"Al Mansouryah\" OR \"Al Fetheliya\" OR \"Al Ilwiya\" OR \"Nukhayb\" OR \"Al Hamdaniya/Baghdeda\" OR \"Al Hadher\" OR \"Dujail\" OR \"Al Urooba\" OR \"Abi Gharaq\" OR \"Al Zab\" OR \"Badra\" OR \"Al Thawra\" OR \"Sulaymaniya City\" OR \"Falluja, Fallujah\" OR \"Mahmoudiya\" OR \"Al Shirqat, Shirqat\" OR \"Rawa\" OR \"Al Baladiyat\" OR \"Al Rashdiya\" OR \"Al Khalis\" OR \"Samarra, Samara\" OR \"Al Hay Al Askary\" OR \"Urr, Ur, Orr\" OR \"Al Kahla\" OR \"Batufa\" OR \"Faw, Fao\" OR \"Abu al-Khaseeb\" OR \"Yarmouk\" OR \"Al-Jadriya\" OR \"Al Mutannabi\" OR \"Shaqlawa\" OR \"Rutba\" OR \"Al Rashid\" OR \"Al Qadisiya\" OR \"Ali Al Gharbi\" OR \"Tel Afar, Tal Afar, Talafar, Telafar\" OR \"Baghdad\" OR \"Jisr Diyala\" OR \"Al Saray\" OR \"Hay Adan\" OR \"Al Hay Al Sena'ye\" OR \"Al Ibilla\" OR \"Hamourabi\" OR \"Al Jumhouriya\" OR \"Ain Al Tamur\" OR \"Shaab, Shabb\" OR \"Sumer\" OR \"Diyala, Diala, Diyalah\" OR \"Ramadi\" OR \"Khour Alzubair\" OR \"Al Jibayesh\" OR \"Jalawla'a, Jalawla\" OR \"Halabja City\" OR \"Al Nasr Wal Salam\" OR \"Dokan\" OR \"Mahawil, Mahaweel\" OR \"Al Salihiya\" OR \"Adhamiyah\" OR \"Al Qassim\" OR \"Shatt al-Arab\" OR \"Qaim\" OR \"Saidsadiq\" OR \"Al Qul'aa\" OR \"Al Ba'aj\" OR \"Al Rumaitha\" OR \"Rusafa\" OR \"Al Namroud\" OR \"Walid, Waleed\" OR \"Shekhan, Ain Sifni\" OR \"Al Intisar\" OR \"Makhmur\" OR \"Al Muwafaqiya\" OR \"Tammouz\" OR \"AL Azair\" OR \"Ana\" OR \"Yusufiya\" OR \"Baghdad City\" OR \"Al Gharraf\" OR \"Bani Sa'ad\" OR \"Amara\" OR \"Nassriya, Nasriyah, Nasiriyah, Nasriya\" OR \"Karabila\" OR \"Al Dhubbat\" OR \"Hatra\" OR \"Al Shuraa\" OR \"Rabeeaa\" OR \"Kalar\" OR \"Pshdar\" OR \"Hilla\" OR \"Bartellah\" OR \"Qazaniyah\" OR \"Al Dhuluiya\" OR \"Tuz Khormato, Tuz Khurmatu\" OR \"Erbil City\" OR \"Treibil, Karama\" OR \"Abu Ghraib, Abu Ghreib\" OR \"Halabja, Halabjah\" OR \"Ain Tamr\" OR \"Al Maimouna\" OR \"Akre\" OR \"Wasit, Wassit\" OR \"Al Azeeziaya\" OR \"Sumel\" OR \"Amiriya\" OR \"Dohuk, Dohuq, Dahuk, Dihuk, Dohok\" OR \"Al Misharrah\" OR \"Al Wajehiya\" OR \"Telkaif\" OR \"Mosul, Al Mosul\" OR \"Sharazoor\" OR \"Al Samawa\" OR \"Anbar Al Anbar\" OR \"Balad\" OR \"Al Risala\" OR \"Basra, Al Basra, Basrah, Al Basrah\" OR \"Najaf, Al Najaf\" OR \"Khanaqin\" OR \"Sa'ad, Saad\" OR \"Erbil, Irbil, Arbil\" OR \"Hay Alhussain\" OR \"New Baghdad\" OR \"Al Khan'saa\" OR \"Al Quma\" OR \"Qadisiyya, Qadisiya, Qadissiyah, Qadissiya\" OR \"Al Dawaya\" OR \"Al Emam, Al Imam\" OR \"Al Najmi\" OR \"Al Manathera\" OR \"Al Shafiiyya\" OR \"Husayba\" OR \"Al Dawoodi\" OR \"Al Hartha\" OR \"Tuz Khormato\" OR \"Al Riyadh\" OR \"Al Talee'a\" OR \"Maqal\" OR \"Al Hindiya\" OR \"Al Khidhir\" OR \"Al Warka'a\" OR \"Al Qoush\" OR \"Al Kuwair\" OR \"Khan al-Baghdadi\" OR \"Al Hawiga, Al Hawija, Hawija\" OR \"Kabisa\" OR \"Al Dair\" OR \"Eshtar\" OR \"Al Zuhoor\" OR \"Saqlawiya\" OR \"Akashat\" OR \"Amiriyat Fallujah\" OR \"Karadah, Karada, Karrada, Karradah\" OR \"Zayouna\" OR \"Qurna\" OR \"Al Muthanna, Muthanna\" OR \"Al Suwaira\" OR \"Al Sumood\" OR \"Chamchamal\" OR \"Al Maymouna\" OR \"Sab’abkar\" OR \"Diwaniya\" OR \"Haditha\" OR \"Barwana\" OR \"Daquq\" OR \"Al Wihda\" OR \"Al Rifa'i\" OR \"Al Hai\" OR \"Al Kehlaa\" OR \"Bab al-Moatham\" OR \"Saddat al Hindiyah\" OR \"Al Iskan\" OR \"Al Bayyaa\" OR \"Al Hay Al Wasity\" OR \"Karkh\" OR \"Al Masarif\" OR \"Al Shumookh\" OR \"Qal'at Salih\" OR \"Dohuk\" OR \"Al Mandiqa Al Hura\" OR \"Zummar\" OR \"Al Istiqlal\" OR \"Al Salahiya\" OR \"Sulaymaniya, Sulaymaniyah, Sulaimaniya, Suleimaniya, Suleimaniyah, Suleymaniyya\" OR \"Penjwin\" OR \"Nefar\" OR \"Mansour\" OR \"Al Shatra\" OR \"Kifri\" OR \"Hashimiya\" OR \"Makhmour\" OR \"Baiji\" OR \"Abu Sayda\" OR \"Nahiyat Alrasheed\" OR \"Afaq\" OR \"Al Madaen\" OR \"Al Midhatiya\" OR \"Green Zone\" OR \"Salah Ad Din, Salah al Din, Salahadin\" OR \"Tel Keppe, Tel Keef\" OR \"Zubair, Zubayr\" OR \"Al Meethaq\" OR \"Al Bat'haa\" OR \"Ghammas\" OR \"Qaratabba\" OR \"Latifiya, Latifiyah\" OR \"Al Muqdadiya, Muqdadiya\" OR \"Mergasur\" OR \"Al Shannafiya\" OR \"Al Asmaee\" OR \"Koi Sanjaq\" OR \"Debiss\" OR \"Al Latifiya\" OR \"Al Ez\" OR \"Darbandokeh\" OR \"Al Herra\" OR \"Dhi Qar, Dhiqar, Thi Qar\" OR \"Palestine Street\" OR \"Al Tarmiya, Tarmiya, Tarmiyah, Tarmia\" OR \"Amadiya\" OR \"Bijil\" OR \"Maysan, Missan\" OR \"Al Mahannawiya\" OR \"Al Na'maniya\" OR \"Amil\" OR \"Al Obaidi\" OR \"Babel\" OR \"Al Fida'a\" OR \"Qaem\" OR \"Rahaliya\" OR \"Soran\" OR \"Al Showmali\" OR \"Karbala, Kerbala, Karbalah, Kerbalah\" OR \"Suq Al-Shoyokh\" OR \"Al Sheekhan\" OR \"Mandily\" OR \"Al Dor\" OR \"Bab Al Mashhad\" OR \"Kut\" OR \"Al Mashrooa'\" OR \"Lilan\" OR \"Al Daghara\" OR \"Kumait\" OR \"Al Qibla\" OR \"Baquba, Baqubah\" OR \"Al Jihad\")\n"
     ]
    }
   ],
   "source": [
    "import csv\n",
    "\n",
    "    \n",
    "import pandas as pd\n",
    "df = pd.read_csv('data/iraq_geo.csv')\n",
    "\n",
    "geo_loc = []\n",
    "topic = \"(\\\"\" +  '\" OR \"'.join(df['title']) + \"\\\") AND \" \n",
    "\n",
    "df = df.drop('title', axis=1)\n",
    "# df = df.dropna()\n",
    "\n",
    "# print(df)\n",
    "for column in df:\n",
    "    geo_loc.append(df[column])\n",
    "        \n",
    "geo_loc = [item for sublist in geo_loc for item in sublist if item != 'Nan']    \n",
    "geo_loc = list(set(filter(None, geo_loc)) )\n",
    "geo_loc.pop(0)\n",
    "print(len(geo_loc))\n",
    "\n",
    "topic = topic +  \"(\\\"\" + '\" OR \"'.join(geo_loc) + \"\\\")\" \n",
    "\n",
    "print(topic) "
   ]
  },
  {
   "cell_type": "code",
   "execution_count": 24,
   "metadata": {},
   "outputs": [
    {
     "name": "stdout",
     "output_type": "stream",
     "text": [
      "0     2012_01\n",
      "1     2012_02\n",
      "2     2012_03\n",
      "3     2012_04\n",
      "4     2012_05\n",
      "5     2012_06\n",
      "6     2012_07\n",
      "7     2012_08\n",
      "8     2012_09\n",
      "9     2012_10\n",
      "10    2012_11\n",
      "11    2012_12\n",
      "12    2013_01\n",
      "13    2013_02\n",
      "14    2013_03\n",
      "15    2013_04\n",
      "16    2013_05\n",
      "17    2013_06\n",
      "18    2013_07\n",
      "19    2013_08\n",
      "20    2013_09\n",
      "21    2013_10\n",
      "22    2013_11\n",
      "23    2013_12\n",
      "24    2014_01\n",
      "25    2014_02\n",
      "26    2014_03\n",
      "27    2014_04\n",
      "28    2014_05\n",
      "29    2014_06\n",
      "       ...   \n",
      "37    2015_02\n",
      "38    2015_03\n",
      "39    2015_04\n",
      "40    2015_05\n",
      "41    2015_06\n",
      "42    2015_07\n",
      "43    2015_08\n",
      "44    2015_09\n",
      "45    2015_10\n",
      "46    2015_11\n",
      "47    2015_12\n",
      "48    2016_01\n",
      "49    2016_02\n",
      "50    2016_03\n",
      "51    2016_04\n",
      "52    2016_05\n",
      "53    2016_06\n",
      "54    2016_07\n",
      "55    2016_08\n",
      "56    2016_09\n",
      "57    2016_10\n",
      "58    2016_11\n",
      "59    2016_12\n",
      "60    2017_01\n",
      "61    2017_02\n",
      "62    2017_03\n",
      "63    2017_04\n",
      "64    2017_05\n",
      "65    2017_06\n",
      "66    2017_07\n",
      "Name: window, dtype: object\n"
     ]
    },
    {
     "data": {
      "text/plain": [
       "<matplotlib.figure.Figure at 0x7fa1b73e5160>"
      ]
     },
     "metadata": {},
     "output_type": "display_data"
    },
    {
     "data": {
      "image/png": "[encoded data removed]",
      "text/plain": [
       "<matplotlib.figure.Figure at 0x7fa1b720bdd8>"
      ]
     },
     "metadata": {},
     "output_type": "display_data"
    },
    {
     "data": {
      "image/png": "[encoded data removed]",
      "text/plain": [
       "<matplotlib.figure.Figure at 0x7fa1c60ba278>"
      ]
     },
     "metadata": {},
     "output_type": "display_data"
    }
   ],
   "source": [
    "# Create histogram and bar charts from the window topic coherence.\n",
    "\n",
    "import csv\n",
    "import matplotlib.pyplot as plt\n",
    "import matplotlib\n",
    "matplotlib.style.use('ggplot')\n",
    "%matplotlib inline\n",
    "import pandas as pd\n",
    "df = pd.read_csv('/home/sonic/sonic/eosdb/dynamic_nmf/data/windowbin/csv/window_topic_results_df.csv')\n",
    "\n",
    "print(df['window'])\n",
    "plt.figure()\n",
    "ax = df.plot.hist(alpha=0.5)\n",
    "fig = ax.get_figure()\n",
    "plt.xticks(rotation=30, fontsize=4)\n",
    "plt.show()\n",
    "fig.savefig('data/eos/graphs/nmf_top_k_coherence_hist.png', dpi=800)\n",
    "\n",
    "ax = df.plot.bar()\n",
    "ax.set_xticklabels(df['window'])\n",
    "fig = ax.get_figure()\n",
    "plt.xticks(rotation=30, fontsize=4)\n",
    "plt.show()\n",
    "fig.savefig('data/eos/graphs/nmf_top_k_coherence_bar.png', dpi=800)"
   ]
  },
  {
   "cell_type": "markdown",
   "metadata": {},
   "source": [
    "# EOS preprocess library"
   ]
  },
  {
   "cell_type": "code",
   "execution_count": null,
   "metadata": {
    "collapsed": true
   },
   "outputs": [],
   "source": []
  },
  {
   "cell_type": "code",
   "execution_count": 1,
   "metadata": {
    "collapsed": true
   },
   "outputs": [],
   "source": [
    "import os\n",
    "import codecs\n",
    "import string\n",
    "import xmltodict\n",
    "import glob\n",
    "import spacy\n",
    "import pandas as pd\n",
    "import itertools as it\n",
    "\n",
    "from gensim.corpora import Dictionary, MmCorpus\n",
    "from gensim.models.ldamulticore import LdaMulticore\n",
    "\n",
    "import pyLDAvis\n",
    "import pyLDAvis.gensim\n",
    "import warnings\n",
    "import _pickle as pickle\n",
    "\n",
    "from gensim.models import Phrases\n",
    "from gensim.models.word2vec import LineSentence\n",
    "\n",
    "nlp = spacy.load('en')"
   ]
  },
  {
   "cell_type": "code",
   "execution_count": 2,
   "metadata": {
    "collapsed": true
   },
   "outputs": [],
   "source": [
    "# path = \"data/Karbala/en_2014-01-12_41da726433d291c1eefd349dab376dd96f7bdb3.xml\"\n",
    "# path = \"data/Karbala/*.xml\"\n",
    "path = \"/home/sonic/sonic/EOS_DATA/XML_Export_6-8-2015/ContainingTerms/English/*/*.xml\"\n",
    "review_txt_filepath = 'data/eos/review_text_all.txt'\n",
    "unigram_sentences_filepath = 'data/eos/unigram_sentences_all.txt'\n",
    "bigram_model_filepath = 'data/eos/bigram_model_all'\n",
    "bigram_sentences_filepath = 'data/eos/bigram_sentences_all.txt'\n",
    "trigram_model_filepath = 'data/eos/trigram_model_all'\n",
    "trigram_sentences_filepath = 'data/eos/trigram_sentences_all.txt'\n",
    "trigram_reviews_filepath = 'data/eos/trigram_transformed_reviews_all.txt'\n",
    "trigram_dictionary_filepath = 'data/eos/trigram_dict_all.dict'\n",
    "trigram_bow_filepath = 'data/eos/trigram_bow_corpus_all.mm'\n",
    "lda_model_filepath = 'data/eos/lda_model_all'"
   ]
  },
  {
   "cell_type": "code",
   "execution_count": null,
   "metadata": {
    "collapsed": true
   },
   "outputs": [],
   "source": [
    "%%time\n",
    "\n",
    "# this is a bit time consuming - make the if statement True\n",
    "# if you want to execute data prep yourself.\n",
    "if 1 == 1:\n",
    "    \n",
    "    review_count = 0\n",
    "\n",
    "    # create & open a new file in write mode\n",
    "    with codecs.open(review_txt_filepath, 'w', encoding='utf_8') as review_txt_file:\n",
    "\n",
    "        for fname in glob.glob(path):\n",
    "            \n",
    "            with codecs.open(fname, encoding='utf_8') as doc_file:\n",
    "                # print(fname)\n",
    "                try:\n",
    "                    doc = xmltodict.parse(doc_file.read())\n",
    "                    # print(doc['Document']['Id'])\n",
    "                    # print(doc['Document']['Text'])\n",
    "                    # tokens = word_tokenize(doc['Document']['Text'].lower())\n",
    "                    review_txt_file.write(doc['Document']['Text'].replace('\\n', ' ').lower())\n",
    "                    review_count += 1\n",
    "                except Exception as e: \n",
    "                    print(e)\n",
    "\n",
    "                    \n",
    "        print (u'''Text from {:,} documents written to the new txt file.'''.format(review_count))\n",
    "    \n",
    "else:\n",
    "    \n",
    "    with codecs.open(review_txt_filepath, encoding='utf_8') as review_txt_file:\n",
    "        for review_count, line in enumerate(review_txt_file):\n",
    "            pass\n",
    "        \n",
    "    print (u'Text from {:,} documents in the txt file.'.format(review_count + 1))"
   ]
  },
  {
   "cell_type": "code",
   "execution_count": null,
   "metadata": {
    "collapsed": true
   },
   "outputs": [],
   "source": [
    "%%time\n",
    "\n",
    "with codecs.open(review_txt_filepath, encoding='utf_8') as f:\n",
    "    sample_doc = list(it.islice(f, 0, 1))[0]\n",
    "    sample_doc = sample_review.replace('\\\\n', '\\n')\n",
    "    \n",
    "parsed_review = nlp(sample_doc)\n",
    "print (parsed_review)"
   ]
  },
  {
   "cell_type": "code",
   "execution_count": null,
   "metadata": {
    "collapsed": true
   },
   "outputs": [],
   "source": [
    "for num, sentence in enumerate(parsed_review.sents):\n",
    "    print ('Sentence {}:'.format(num + 1))\n",
    "    print (sentence)\n",
    "    print ('')"
   ]
  },
  {
   "cell_type": "code",
   "execution_count": null,
   "metadata": {
    "collapsed": true
   },
   "outputs": [],
   "source": [
    "for num, entity in enumerate(parsed_review.ents):\n",
    "    print ('Entity {}:'.format(num + 1), entity, '-', entity.label_)\n",
    "    print ('')"
   ]
  },
  {
   "cell_type": "code",
   "execution_count": null,
   "metadata": {
    "collapsed": true
   },
   "outputs": [],
   "source": [
    "# token_text = [token.orth_ for token in parsed_review]\n",
    "# token_pos = [token.pos_ for token in parsed_review]\n",
    "\n",
    "# pd.DataFrame(list(zip(token_text, token_pos)), columns=['token_text', 'part_of_speech'])"
   ]
  },
  {
   "cell_type": "code",
   "execution_count": null,
   "metadata": {
    "collapsed": true
   },
   "outputs": [],
   "source": [
    "token_lemma = [token.lemma_ for token in parsed_review]\n",
    "token_shape = [token.shape_ for token in parsed_review]\n",
    "\n",
    "pd.DataFrame(list(zip(token_text, token_lemma, token_shape)),\n",
    "             columns=['token_text', 'token_lemma', 'token_shape'])"
   ]
  },
  {
   "cell_type": "code",
   "execution_count": 5,
   "metadata": {
    "collapsed": true
   },
   "outputs": [],
   "source": []
  },
  {
   "cell_type": "code",
   "execution_count": 3,
   "metadata": {
    "collapsed": true
   },
   "outputs": [],
   "source": [
    "def punct_space(token):\n",
    "    \"\"\"\n",
    "    helper function to eliminate tokens\n",
    "    that are pure punctuation or whitespace\n",
    "    \"\"\"\n",
    "    \n",
    "    return token.is_punct or token.is_space\n",
    "\n",
    "def line_review(filename):\n",
    "    \"\"\"\n",
    "    generator function to read in reviews from the file\n",
    "    and un-escape the original line breaks in the text\n",
    "    \"\"\"\n",
    "    \n",
    "    with codecs.open(filename, encoding='utf_8') as f:\n",
    "        for review in f:\n",
    "            # yield review.replace('\\\\n', '\\n')\n",
    "            yield review\n",
    "            \n",
    "def lemmatized_sentence_corpus(filename):\n",
    "    \"\"\"\n",
    "    generator function to use spaCy to parse reviews,\n",
    "    lemmatize the text, and yield sentences\n",
    "    \"\"\"\n",
    "    \n",
    "    for parsed_review in nlp.pipe(line_review(filename),\n",
    "                                  batch_size=100, n_threads=7):\n",
    "        \n",
    "        for sent in parsed_review.sents:\n",
    "            yield u' '.join([token.lemma_ for token in sent\n",
    "                             if not punct_space(token)])"
   ]
  },
  {
   "cell_type": "code",
   "execution_count": 5,
   "metadata": {},
   "outputs": [
    {
     "name": "stdout",
     "output_type": "stream",
     "text": [
      "CPU times: user 3h 30min 21s, sys: 32 s, total: 3h 30min 53s\n",
      "Wall time: 1h 21min 50s\n"
     ]
    }
   ],
   "source": [
    "%%time\n",
    "\n",
    "# this is a bit time consuming - make the if statement True\n",
    "# if you want to execute data prep yourself.\n",
    "if 1 == 1:\n",
    "\n",
    "    with codecs.open(unigram_sentences_filepath, 'w', encoding='utf_8') as f:\n",
    "        for sentence in lemmatized_sentence_corpus(review_txt_filepath):\n",
    "            f.write(sentence + '\\n')"
   ]
  },
  {
   "cell_type": "code",
   "execution_count": 6,
   "metadata": {
    "collapsed": true
   },
   "outputs": [],
   "source": [
    "unigram_sentences = LineSentence(unigram_sentences_filepath)"
   ]
  },
  {
   "cell_type": "code",
   "execution_count": 4,
   "metadata": {
    "scrolled": true
   },
   "outputs": [
    {
     "name": "stdout",
     "output_type": "stream",
     "text": [
      "CPU times: user 8.64 s, sys: 588 ms, total: 9.22 s\n",
      "Wall time: 9.23 s\n"
     ]
    }
   ],
   "source": [
    "%%time\n",
    "\n",
    "# Bigrams\n",
    "# this is a bit time consuming - make the if statement True\n",
    "# if you want to execute modeling yourself.\n",
    "if 0 == 1:\n",
    "\n",
    "    bigram_model = Phrases(unigram_sentences)\n",
    "\n",
    "    bigram_model.save(bigram_model_filepath)\n",
    "    \n",
    "# load the finished model from disk\n",
    "bigram_model = Phrases.load(bigram_model_filepath)"
   ]
  },
  {
   "cell_type": "code",
   "execution_count": 8,
   "metadata": {},
   "outputs": [
    {
     "name": "stderr",
     "output_type": "stream",
     "text": [
      "/usr/local/lib/python3.5/dist-packages/gensim/models/phrases.py:274: UserWarning: For a faster implementation, use the gensim.models.phrases.Phraser class\n",
      "  warnings.warn(\"For a faster implementation, use the gensim.models.phrases.Phraser class\")\n"
     ]
    },
    {
     "name": "stdout",
     "output_type": "stream",
     "text": [
      "CPU times: user 11min 52s, sys: 2.94 s, total: 11min 55s\n",
      "Wall time: 11min 54s\n"
     ]
    }
   ],
   "source": [
    "%%time\n",
    "\n",
    "# this is a bit time consuming - make the if statement True\n",
    "# if you want to execute data prep yourself.\n",
    "if 1 == 1:\n",
    "\n",
    "    with codecs.open(bigram_sentences_filepath, 'w', encoding='utf_8') as f:\n",
    "        \n",
    "        for unigram_sentence in unigram_sentences:\n",
    "            \n",
    "            bigram_sentence = u' '.join(bigram_model[unigram_sentence])\n",
    "            \n",
    "            f.write(bigram_sentence + '\\n')"
   ]
  },
  {
   "cell_type": "code",
   "execution_count": 7,
   "metadata": {
    "collapsed": true
   },
   "outputs": [],
   "source": [
    "bigram_sentences = LineSentence(bigram_sentences_filepath)"
   ]
  },
  {
   "cell_type": "code",
   "execution_count": 5,
   "metadata": {},
   "outputs": [
    {
     "name": "stdout",
     "output_type": "stream",
     "text": [
      "CPU times: user 9.81 s, sys: 392 ms, total: 10.2 s\n",
      "Wall time: 10.2 s\n"
     ]
    }
   ],
   "source": [
    "%%time\n",
    "\n",
    "# this is a bit time consuming - make the if statement True\n",
    "# if you want to execute modeling yourself.\n",
    "if 0 == 1:\n",
    "\n",
    "    trigram_model = Phrases(bigram_sentences)\n",
    "\n",
    "    trigram_model.save(trigram_model_filepath)\n",
    "    \n",
    "# load the finished model from disk\n",
    "trigram_model = Phrases.load(trigram_model_filepath)"
   ]
  },
  {
   "cell_type": "code",
   "execution_count": 11,
   "metadata": {},
   "outputs": [
    {
     "name": "stdout",
     "output_type": "stream",
     "text": [
      "CPU times: user 0 ns, sys: 0 ns, total: 0 ns\n",
      "Wall time: 4.77 µs\n"
     ]
    }
   ],
   "source": [
    "%%time\n",
    "\n",
    "# this is a bit time consuming - make the if statement True\n",
    "# if you want to execute data prep yourself.\n",
    "if 0 == 1:\n",
    "\n",
    "    with codecs.open(trigram_sentences_filepath, 'w', encoding='utf_8') as f:\n",
    "        \n",
    "        for bigram_sentence in bigram_sentences:\n",
    "            \n",
    "            trigram_sentence = u' '.join(trigram_model[bigram_sentence])\n",
    "            \n",
    "            f.write(trigram_sentence + '\\n')"
   ]
  },
  {
   "cell_type": "code",
   "execution_count": 8,
   "metadata": {
    "collapsed": true
   },
   "outputs": [],
   "source": [
    "trigram_sentences = LineSentence(trigram_sentences_filepath)"
   ]
  },
  {
   "cell_type": "code",
   "execution_count": null,
   "metadata": {},
   "outputs": [
    {
     "name": "stderr",
     "output_type": "stream",
     "text": [
      "/usr/local/lib/python3.5/dist-packages/gensim/models/phrases.py:274: UserWarning: For a faster implementation, use the gensim.models.phrases.Phraser class\n",
      "  warnings.warn(\"For a faster implementation, use the gensim.models.phrases.Phraser class\")\n"
     ]
    }
   ],
   "source": [
    "%%time\n",
    "\n",
    "# Main Funtion\n",
    "\n",
    "if 1 == 1:\n",
    "\n",
    "    with codecs.open(trigram_reviews_filepath, 'w', encoding='utf_8') as f:\n",
    "        \n",
    "        for parsed_review in nlp.pipe(line_review(review_txt_filepath),\n",
    "                                      batch_size=100, n_threads=7):\n",
    "            \n",
    "            # lemmatize the text, removing punctuation and whitespace\n",
    "            unigram_review = [token.lemma_ for token in parsed_review\n",
    "                              if not punct_space(token)]\n",
    "                        \n",
    "            # apply the first-order and second-order phrase models\n",
    "            bigram_review = bigram_model[unigram_review]\n",
    "            trigram_review = trigram_model[bigram_review]\n",
    "            \n",
    "            # remove any remaining stopwords\n",
    "            trigram_review = [term for term in trigram_review\n",
    "                              if term not in spacy.en.language_data.STOP_WORDS]\n",
    "            \n",
    "            # write the transformed review as a line in the new file\n",
    "            trigram_review = u' '.join(trigram_review)\n",
    "            f.write(trigram_review + '\\n')"
   ]
  },
  {
   "cell_type": "code",
   "execution_count": 19,
   "metadata": {},
   "outputs": [
    {
     "ename": "TypeError",
     "evalue": "'LineSentence' object does not support indexing",
     "output_type": "error",
     "traceback": [
      "\u001b[0;31m---------------------------------------------------------------------------\u001b[0m",
      "\u001b[0;31mTypeError\u001b[0m                                 Traceback (most recent call last)",
      "\u001b[0;32m<timed exec>\u001b[0m in \u001b[0;36m<module>\u001b[0;34m()\u001b[0m\n",
      "\u001b[0;31mTypeError\u001b[0m: 'LineSentence' object does not support indexing"
     ]
    }
   ],
   "source": [
    "%%time\n",
    "\n",
    "# tCreat trigram dictionary\n",
    "\n",
    "if 1 == 1:\n",
    "\n",
    "    trigram_reviews = LineSentence(trigram_reviews_filepath)\n",
    "\n",
    "\n",
    "    # learn the dictionary by iterating over all of the reviews\n",
    "    trigram_dictionary = Dictionary(trigram_reviews)\n",
    "    \n",
    "    # filter tokens that are very rare or too common from\n",
    "    # the dictionary (filter_extremes) and reassign integer ids (compactify)\n",
    "    trigram_dictionary.filter_extremes(no_below=10, no_above=0.4)\n",
    "    trigram_dictionary.compactify()\n",
    "\n",
    "    trigram_dictionary.save(trigram_dictionary_filepath)\n",
    "    \n",
    "# load the finished dictionary from disk\n",
    "trigram_dictionary = Dictionary.load(trigram_dictionary_filepath)"
   ]
  },
  {
   "cell_type": "code",
   "execution_count": 6,
   "metadata": {
    "collapsed": true
   },
   "outputs": [],
   "source": []
  },
  {
   "cell_type": "code",
   "execution_count": 7,
   "metadata": {
    "collapsed": true
   },
   "outputs": [],
   "source": [
    "def trigram_bow_generator(filepath):\n",
    "    \"\"\"\n",
    "    generator function to read reviews from a file\n",
    "    and yield a bag-of-words representation\n",
    "    \"\"\"\n",
    "    \n",
    "    for review in LineSentence(filepath):\n",
    "        yield trigram_dictionary.doc2bow(review)"
   ]
  },
  {
   "cell_type": "code",
   "execution_count": 8,
   "metadata": {},
   "outputs": [
    {
     "name": "stdout",
     "output_type": "stream",
     "text": [
      "CPU times: user 0 ns, sys: 0 ns, total: 0 ns\n",
      "Wall time: 2.43 ms\n"
     ]
    }
   ],
   "source": [
    "%%time\n",
    "\n",
    "if 1 == 1:\n",
    "\n",
    "    # generate bag-of-words representations for\n",
    "    # all reviews and save them as a matrix\n",
    "    MmCorpus.serialize(trigram_bow_filepath,\n",
    "                       trigram_bow_generator(trigram_reviews_filepath))\n",
    "    \n",
    "# load the finished bag-of-words corpus from disk\n",
    "trigram_bow_corpus = MmCorpus(trigram_bow_filepath)"
   ]
  },
  {
   "cell_type": "code",
   "execution_count": null,
   "metadata": {
    "collapsed": true
   },
   "outputs": [],
   "source": []
  }
 ],
 "metadata": {
  "kernelspec": {
   "display_name": "Python 3",
   "language": "python",
   "name": "python3"
  },
  "language_info": {
   "codemirror_mode": {
    "name": "ipython",
    "version": 3
   },
   "file_extension": ".py",
   "mimetype": "text/x-python",
   "name": "python",
   "nbconvert_exporter": "python",
   "pygments_lexer": "ipython3",
   "version": "3.5.2"
  }
 },
 "nbformat": 4,
 "nbformat_minor": 1
}
