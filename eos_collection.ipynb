{
 "cells": [
  {
   "cell_type": "code",
   "execution_count": 4,
   "metadata": {
    "collapsed": true
   },
   "outputs": [],
   "source": [
    "import xmltodict\n",
    "import glob\n",
    "import nltk\n",
    "from stop_words import get_stop_words\n",
    "from gensim import corpora, models\n",
    "import gensim\n",
    "from time import time\n",
    "from sklearn.externals import joblib\n",
    "import gzip\n",
    "import string\n",
    "import codecs\n",
    "\n",
    "import pickle\n",
    "\n",
    "import pyLDAvis\n",
    "import pyLDAvis.gensim\n",
    "\n",
    "# Import and download stopwords from NLTK.\n",
    "from nltk.corpus import stopwords\n",
    "from nltk import download\n",
    "from nltk.stem.wordnet import WordNetLemmatizer\n",
    "from nltk import word_tokenize\n"
   ]
  },
  {
   "cell_type": "code",
   "execution_count": 5,
   "metadata": {},
   "outputs": [
    {
     "name": "stdout",
     "output_type": "stream",
     "text": [
      "[\"'s\", \"''\", '``', '–', '‘a', '--', '...']\n",
      "[nltk_data] Downloading package stopwords to /home/sonic/nltk_data...\n",
      "[nltk_data]   Package stopwords is already up-to-date!\n",
      "[nltk_data] Downloading package punkt to /home/sonic/nltk_data...\n",
      "[nltk_data]   Package punkt is already up-to-date!\n"
     ]
    }
   ],
   "source": [
    "# exclude = list(string.punctuation) \n",
    "exclude = ['\\'s', '\\'\\'', '``', '–', '‘a', '--', '...']\n",
    "print(exclude)\n",
    "lemma = WordNetLemmatizer()\n",
    "\n",
    "download('stopwords')  # Download stopwords list.\n",
    "stop_words = stopwords.words('english')\n",
    "download('punkt')  # Download data for tokenizer.\n",
    "\n",
    "def preprocess(doc):\n",
    "    doc = doc.lower()  # Lower the text.\n",
    "    doc = word_tokenize(doc)  # Split into words.\n",
    "    doc = [w for w in doc if not w in stop_words]  # Remove stopwords.\n",
    "    doc = [w for w in doc if w.isalpha()]  # Remove numbers and punctuation.\n",
    "    doc = [w for w in doc if w not in exclude] # EOS specific\n",
    "    doc = [lemma.lemmatize(word) for word in doc] # to normalize\n",
    "    return doc\n",
    "\n"
   ]
  },
  {
   "cell_type": "code",
   "execution_count": 6,
   "metadata": {},
   "outputs": [
    {
     "name": "stdout",
     "output_type": "stream",
     "text": [
      "Text from 9,775 documents written to the new txt file.\n"
     ]
    }
   ],
   "source": [
    "path = \"data/Karbala/en_2014-01-12_41da726433d291c1eefd349dab376dd96f7bdb3.xml\"\n",
    "path = \"data/Karbala/*.xml\"\n",
    "doc_filepath = 'data/eos/eos_tokenize_all.p'\n",
    "\n",
    "eos_corpus = []\n",
    "if 1 == 1:\n",
    "\n",
    "    for fname in glob.glob(path):\n",
    "\n",
    "        with codecs.open(fname, encoding='utf_8') as doc_file:\n",
    "            # print(fname)\n",
    "            try:\n",
    "                doc = xmltodict.parse(doc_file.read())\n",
    "                # print(doc['Document']['Id'])\n",
    "                # print(doc['Document']['Text'])\n",
    "#                     review_txt_file.write(preprocess(doc['Document']['Text']))\n",
    "#                     Write a tokenize list to file\n",
    "#                     review_txt_file.write(\"%s\\n\" % preprocess(doc['Document']['Text'])) \n",
    "                eos_corpus.append(preprocess(doc['Document']['Text']))\n",
    "            except Exception as e: \n",
    "                print(e)\n",
    "\n",
    "    # Remove empty documents         \n",
    "    # Justify this trimming ? the upper bound screw with the histogram.\n",
    "    eos_corpus = [doc for doc in eos_corpus if len(doc) <= 3000]\n",
    "\n",
    "    print (u'''Text from {:,} documents written to the new txt file.'''.format(len(eos_corpus)))\n",
    "        \n",
    "    pickle.dump( eos_corpus, open( doc_filepath, \"wb\" ) )\n",
    "    \n",
    "else:\n",
    "    eos_corpus = pickle.load( open( doc_filepath, \"rb\" ) )"
   ]
  },
  {
   "cell_type": "code",
   "execution_count": 7,
   "metadata": {},
   "outputs": [
    {
     "name": "stdout",
     "output_type": "stream",
     "text": [
      "0\n",
      "9775\n",
      "2921\n",
      "0\n"
     ]
    },
    {
     "name": "stderr",
     "output_type": "stream",
     "text": [
      "/usr/local/lib/python3.5/dist-packages/matplotlib/__init__.py:913: UserWarning: axes.color_cycle is deprecated and replaced with axes.prop_cycle; please use the latter.\n",
      "  warnings.warn(self.msg_depr % (key, alt_key))\n",
      "/home/sonic/.local/lib/python3.5/site-packages/ipykernel_launcher.py:21: MatplotlibDeprecationWarning: pyplot.hold is deprecated.\n",
      "    Future behavior will be consistent with the long-time default:\n",
      "    plot commands add elements without first clearing the\n",
      "    Axes and/or Figure.\n",
      "/usr/local/lib/python3.5/dist-packages/matplotlib/__init__.py:917: UserWarning: axes.hold is deprecated. Please remove it from your matplotlibrc and/or style files.\n",
      "  warnings.warn(self.msg_depr_set % key)\n",
      "/usr/local/lib/python3.5/dist-packages/matplotlib/rcsetup.py:152: UserWarning: axes.hold is deprecated, will be removed in 3.0\n",
      "  warnings.warn(\"axes.hold is deprecated, will be removed in 3.0\")\n",
      "/home/sonic/.local/lib/python3.5/site-packages/ipykernel_launcher.py:25: MatplotlibDeprecationWarning: pyplot.hold is deprecated.\n",
      "    Future behavior will be consistent with the long-time default:\n",
      "    plot commands add elements without first clearing the\n",
      "    Axes and/or Figure.\n"
     ]
    },
    {
     "data": {
      "image/png": "[encoded data removed]",
      "text/plain": [
       "<matplotlib.figure.Figure at 0x7f2711354d68>"
      ]
     },
     "metadata": {},
     "output_type": "display_data"
    }
   ],
   "source": [
    "from matplotlib import pyplot as plt\n",
    "%matplotlib inline\n",
    "\n",
    "# Document lengths.\n",
    "lens = [len(doc) for doc in eos_corpus]\n",
    "\n",
    "print(len(eos_corpus) - len(eos_corpus))\n",
    "print(len(lens))\n",
    "\n",
    "print (len(max(eos_corpus, key=len)))\n",
    "print (len(min(eos_corpus, key=len)))\n",
    "\n",
    "# Plot.\n",
    "plt.rc('figure', figsize=(8, 6))\n",
    "plt.rc('font', size=14)\n",
    "plt.rc('lines', linewidth=2)\n",
    "plt.rc('axes', color_cycle=('#377eb8', '#e41a1c', '#4daf4a',\n",
    "                            '#984ea3', '#ff7f00', '#ffff33'))\n",
    "# Histogram.\n",
    "plt.hist(lens, bins=20)\n",
    "plt.hold(True)\n",
    "# Average length.\n",
    "avg_len = sum(lens) / float(len(lens))\n",
    "plt.axvline(avg_len, color='#e41a1c')\n",
    "plt.hold(False)\n",
    "plt.title('Histogram of document lengths.')\n",
    "plt.xlabel('Length')\n",
    "plt.text(100, 800, 'mean = %.2f' % avg_len)\n",
    "plt.show()"
   ]
  },
  {
   "cell_type": "code",
   "execution_count": 9,
   "metadata": {},
   "outputs": [
    {
     "name": "stdout",
     "output_type": "stream",
     "text": [
      "CPU times: user 3.71 s, sys: 12 ms, total: 3.72 s\n",
      "Wall time: 3.72 s\n"
     ]
    }
   ],
   "source": [
    "%%time\n",
    "\n",
    "\n",
    "# turn our tokenized documents into a id <-> term dictionary\n",
    "dictionary = corpora.Dictionary(eos_corpus)\n",
    "dictionary.save_as_text('data/eos/dictionary_EOS.txt')"
   ]
  },
  {
   "cell_type": "code",
   "execution_count": 10,
   "metadata": {},
   "outputs": [
    {
     "name": "stdout",
     "output_type": "stream",
     "text": [
      "CPU times: user 5.57 s, sys: 84 ms, total: 5.65 s\n",
      "Wall time: 5.65 s\n"
     ]
    }
   ],
   "source": [
    "%%time\n",
    "\n",
    "\n",
    "# convert tokenized documents into a document-term matrix\n",
    "corpus = [dictionary.doc2bow(text) for text in eos_corpus]\n",
    "corpora.MmCorpus.serialize('data/eos/processed_corpus_EOS.mm', corpus)"
   ]
  },
  {
   "cell_type": "code",
   "execution_count": null,
   "metadata": {
    "collapsed": true
   },
   "outputs": [],
   "source": []
  }
 ],
 "metadata": {
  "kernelspec": {
   "display_name": "Python 3",
   "language": "python",
   "name": "python3"
  },
  "language_info": {
   "codemirror_mode": {
    "name": "ipython",
    "version": 3
   },
   "file_extension": ".py",
   "mimetype": "text/x-python",
   "name": "python",
   "nbconvert_exporter": "python",
   "pygments_lexer": "ipython3",
   "version": "3.5.2"
  }
 },
 "nbformat": 4,
 "nbformat_minor": 2
}
