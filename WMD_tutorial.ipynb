{
 "cells": [
  {
   "cell_type": "markdown",
   "metadata": {},
   "source": [
    "# Finding similar documents with Word2Vec and WMD \n",
    "\n",
    "Word Mover's Distance is a promising new tool in machine learning that allows us to submit a query and return the most relevant documents. For example, in a blog post [OpenTable](http://tech.opentable.com/2015/08/11/navigating-themes-in-restaurant-reviews-with-word-movers-distance/) use WMD on restaurant reviews. Using this approach, they are able to mine different aspects of the reviews. In **part 2** of this tutorial, we show how you can use Gensim's `WmdSimilarity` to do something similar to what OpenTable did. In **part 1** shows how you can compute the WMD distance between two documents using `wmdistance`. Part 1 is optional if you want use `WmdSimilarity`, but is also useful in it's own merit.\n",
    "\n",
    "First, however, we go through the basics of what WMD is.\n",
    "\n",
    "## Word Mover's Distance basics\n",
    "\n",
    "WMD is a method that allows us to assess the \"distance\" between two documents in a meaningful way, even when they have no words in common. It uses [word2vec](http://rare-technologies.com/word2vec-tutorial/) [4] vector embeddings of words. It been shown to outperform many of the state-of-the-art methods in *k*-nearest neighbors classification [3].\n",
    "\n",
    "WMD is illustrated below for two very similar sentences (illustration taken from [Vlad Niculae's blog](http://vene.ro/blog/word-movers-distance-in-python.html)). The sentences have no words in common, but by matching the relevant words, WMD is able to accurately measure the (dis)similarity between the two sentences. The method also uses the bag-of-words representation of the documents (simply put, the word's frequencies in the documents), noted as $d$ in the figure below. The intution behind the method is that we find the minimum \"traveling distance\" between documents, in other words the most efficient way to \"move\" the distribution of document 1 to the distribution of document 2.\n",
    "\n",
    "<img src='https://vene.ro/images/wmd-obama.png' height='600' width='600'>\n",
    "\n",
    "\n",
    "This method was introduced in the article \"From Word Embeddings To Document Distances\" by Matt Kusner et al. ([link to PDF](http://jmlr.org/proceedings/papers/v37/kusnerb15.pdf)). It is inspired by the \"Earth Mover's Distance\", and employs a solver of the \"transportation problem\".\n",
    "\n",
    "In this tutorial, we will learn how to use Gensim's WMD functionality, which consists of the `wmdistance` method for distance computation, and the `WmdSimilarity` class for corpus based similarity queries.\n",
    "\n",
    "> **Note**:\n",
    ">\n",
    "> If you use this software, please consider citing [1], [2] and [3].\n",
    ">\n",
    "\n",
    "## Running this notebook\n",
    "\n",
    "You can download this [iPython Notebook](http://ipython.org/notebook.html), and run it on your own computer, provided you have installed Gensim, PyEMD, NLTK, and downloaded the necessary data.\n",
    "\n",
    "The notebook was run on an Ubuntu machine with an Intel core i7-4770 CPU 3.40GHz (8 cores) and 32 GB memory. Running the entire notebook on this machine takes about 3 minutes.\n",
    "\n",
    "## Part 1: Computing the Word Mover's Distance\n",
    "\n",
    "To use WMD, we need some word embeddings first of all. You could train a word2vec (see tutorial [here](http://rare-technologies.com/word2vec-tutorial/)) model on some corpus, but we will start by downloading some pre-trained word2vec embeddings. Download the GoogleNews-vectors-negative300.bin.gz embeddings [here](https://code.google.com/archive/p/word2vec/) (warning: 1.5 GB, file is not needed for part 2). Training your own embeddings can be beneficial, but to simplify this tutorial, we will be using pre-trained embeddings at first.\n",
    "\n",
    "Let's take some sentences to compute the distance between."
   ]
  },
  {
   "cell_type": "code",
   "execution_count": 1,
   "metadata": {
    "collapsed": true
   },
   "outputs": [],
   "source": [
    "from time import time\n",
    "start_nb = time()"
   ]
  },
  {
   "cell_type": "code",
   "execution_count": 2,
   "metadata": {
    "collapsed": true
   },
   "outputs": [],
   "source": [
    "# Initialize logging.\n",
    "import logging\n",
    "logging.basicConfig(format='%(asctime)s : %(levelname)s : %(message)s')\n",
    "\n",
    "sentence_obama = 'Obama speaks to the media in Illinois'\n",
    "sentence_president = 'The president greets the press in Chicago'\n",
    "sentence_obama = sentence_obama.lower().split()\n",
    "sentence_president = sentence_president.lower().split()"
   ]
  },
  {
   "cell_type": "markdown",
   "metadata": {},
   "source": [
    "These sentences have very similar content, and as such the WMD should be low. Before we compute the WMD, we want to remove stopwords (\"the\", \"to\", etc.), as these do not contribute a lot to the information in the sentences."
   ]
  },
  {
   "cell_type": "code",
   "execution_count": 3,
   "metadata": {},
   "outputs": [
    {
     "name": "stdout",
     "output_type": "stream",
     "text": [
      "[nltk_data] Downloading package stopwords to /home/sonic/nltk_data...\n",
      "[nltk_data]   Package stopwords is already up-to-date!\n"
     ]
    }
   ],
   "source": [
    "# Import and download stopwords from NLTK.\n",
    "from nltk.corpus import stopwords\n",
    "from nltk import download\n",
    "download('stopwords')  # Download stopwords list.\n",
    "\n",
    "# Remove stopwords.\n",
    "stop_words = stopwords.words('english')\n",
    "sentence_obama = [w for w in sentence_obama if w not in stop_words]\n",
    "sentence_president = [w for w in sentence_president if w not in stop_words]"
   ]
  },
  {
   "cell_type": "markdown",
   "metadata": {},
   "source": [
    "Now, as mentioned earlier, we will be using some downloaded pre-trained embeddings. We load these into a Gensim Word2Vec model class. Note that the embeddings we have chosen here require a lot of memory."
   ]
  },
  {
   "cell_type": "code",
   "execution_count": 4,
   "metadata": {},
   "outputs": [
    {
     "name": "stdout",
     "output_type": "stream",
     "text": [
      "Cell took 81.06 seconds to run.\n"
     ]
    }
   ],
   "source": [
    "start = time()\n",
    "import os\n",
    "\n",
    "from gensim.models import KeyedVectors\n",
    "if not os.path.exists('data/GoogleNews-vectors-negative300.bin.gz'):\n",
    "    raise ValueError(\"SKIP: You need to download the google news model\")\n",
    "    \n",
    "model = KeyedVectors.load_word2vec_format('data/GoogleNews-vectors-negative300.bin.gz', binary=True)\n",
    "\n",
    "print('Cell took %.2f seconds to run.' % (time() - start))"
   ]
  },
  {
   "cell_type": "markdown",
   "metadata": {},
   "source": [
    "So let's compute WMD using the `wmdistance` method."
   ]
  },
  {
   "cell_type": "code",
   "execution_count": 5,
   "metadata": {},
   "outputs": [
    {
     "name": "stdout",
     "output_type": "stream",
     "text": [
      "distance = 3.3741\n"
     ]
    }
   ],
   "source": [
    "distance = model.wmdistance(sentence_obama, sentence_president)\n",
    "print(\"distance = {0:.4f}\".format(distance))"
   ]
  },
  {
   "cell_type": "markdown",
   "metadata": {},
   "source": [
    "Let's try the same thing with two completely unrelated sentences. Notice that the distance is larger."
   ]
  },
  {
   "cell_type": "code",
   "execution_count": 6,
   "metadata": {},
   "outputs": [
    {
     "name": "stdout",
     "output_type": "stream",
     "text": [
      "distance = 4.3802\n"
     ]
    }
   ],
   "source": [
    "sentence_orange = 'Oranges are my favorite fruit'\n",
    "sentence_orange = sentence_orange.lower().split()\n",
    "sentence_orange = [w for w in sentence_orange if w not in stop_words]\n",
    "\n",
    "distance = model.wmdistance(sentence_obama, sentence_orange)\n",
    "print(\"distance = {0:.4f}\".format(distance))"
   ]
  },
  {
   "cell_type": "markdown",
   "metadata": {},
   "source": [
    "### Normalizing word2vec vectors\n",
    "\n",
    "When using the `wmdistance` method, it is beneficial to normalize the word2vec vectors first, so they all have equal length. To do this, simply call `model.init_sims(replace=True)` and Gensim will take care of that for you.\n",
    "\n",
    "Usually, one measures the distance between two word2vec vectors using the cosine distance (see [cosine similarity](https://en.wikipedia.org/wiki/Cosine_similarity)), which measures the angle between vectors. WMD, on the other hand, uses the Euclidean distance. The Euclidean distance between two vectors might be large because their lengths differ, but the cosine distance is small because the angle between them is small; we can mitigate some of this by normalizing the vectors.\n",
    "\n",
    "Note that normalizing the vectors can take some time, especially if you have a large vocabulary and/or large vectors.\n",
    "\n",
    "Usage is illustrated in the example below. It just so happens that the vectors we have downloaded are already normalized, so it won't do any difference in this case."
   ]
  },
  {
   "cell_type": "code",
   "execution_count": 7,
   "metadata": {},
   "outputs": [
    {
     "name": "stdout",
     "output_type": "stream",
     "text": [
      "Cell took 13.02 seconds to run.\n"
     ]
    }
   ],
   "source": [
    "# Normalizing word2vec vectors.\n",
    "start = time()\n",
    "\n",
    "model.init_sims(replace=True)  # Normalizes the vectors in the word2vec class.\n",
    "\n",
    "distance = model.wmdistance(sentence_obama, sentence_president)  # Compute WMD as normal.\n",
    "\n",
    "print ('Cell took %.2f seconds to run.' %(time() - start))"
   ]
  },
  {
   "cell_type": "markdown",
   "metadata": {},
   "source": [
    "## Part 2: Similarity queries using `WmdSimilarity`\n",
    "\n",
    "You can use WMD to get the most similar documents to a query, using the `WmdSimilarity` class. Its interface is similar to what is described in the [Similarity Queries](https://radimrehurek.com/gensim/tut3.html) Gensim tutorial.\n",
    "\n",
    "> **Important note:**\n",
    ">\n",
    "> WMD is a measure of *distance*. The similarities in `WmdSimilarity` are simply the *negative distance*. Be careful not to confuse distances and similarities. Two similar documents will have a *high* similarity score and a small distance; two very different documents will have *low* similarity score, and a large distance.\n",
    "\n",
    "### Yelp data\n",
    "\n",
    "Let's try similarity queries using some real world data. For that we'll be using Yelp reviews, available at http://www.yelp.com/dataset_challenge. Specifically, we will be using reviews of a single restaurant, namely the [Mon Ami Gabi](http://en.yelp.be/biz/mon-ami-gabi-las-vegas-2).\n",
    "\n",
    "To get the Yelp data, you need to register by name and email address. The data is 775 MB.\n",
    "\n",
    "This time around, we are going to train the Word2Vec embeddings on the data ourselves. One restaurant is not enough to train Word2Vec properly, so we use 6 restaurants for that, but only run queries against one of them. In addition to the Mon Ami Gabi, mentioned above, we will be using:\n",
    "\n",
    "* [Earl of Sandwich](http://en.yelp.be/biz/earl-of-sandwich-las-vegas).\n",
    "* [Wicked Spoon](http://en.yelp.be/biz/wicked-spoon-las-vegas).\n",
    "* [Serendipity 3](http://en.yelp.be/biz/serendipity-3-las-vegas).\n",
    "* [Bacchanal Buffet](http://en.yelp.be/biz/bacchanal-buffet-las-vegas-7).\n",
    "* [The Buffet](http://en.yelp.be/biz/the-buffet-las-vegas-6).\n",
    "\n",
    "The restaurants we chose were those with the highest number of reviews in the Yelp dataset. Incidentally, they all are on the Las Vegas Boulevard. The corpus we trained Word2Vec on has 18957 documents (reviews), and the corpus we used for `WmdSimilarity` has 4137 documents.\n",
    "\n",
    "Below a JSON file with Yelp reviews is read line by line, the text is extracted, tokenized, and stopwords and punctuation are removed.\n"
   ]
  },
  {
   "cell_type": "code",
   "execution_count": 8,
   "metadata": {},
   "outputs": [
    {
     "name": "stdout",
     "output_type": "stream",
     "text": [
      "[nltk_data] Downloading package punkt to /home/sonic/nltk_data...\n",
      "[nltk_data]   Package punkt is already up-to-date!\n"
     ]
    }
   ],
   "source": [
    "# Pre-processing a document.\n",
    "\n",
    "from nltk import word_tokenize\n",
    "download('punkt')  # Download data for tokenizer.\n",
    "\n",
    "def preprocess(doc):\n",
    "    doc = doc.lower()  # Lower the text.\n",
    "    doc = word_tokenize(doc)  # Split into words.\n",
    "    doc = [w for w in doc if not w in stop_words]  # Remove stopwords.\n",
    "    doc = [w for w in doc if w.isalpha()]  # Remove numbers and punctuation.\n",
    "    return doc"
   ]
  },
  {
   "cell_type": "code",
   "execution_count": 9,
   "metadata": {
    "collapsed": true
   },
   "outputs": [],
   "source": [
    "start = time()\n",
    "\n",
    "import json\n",
    "\n",
    "# Business IDs of the restaurants.\n",
    "ids = ['4bEjOyTaDG24SY5TxsaUNQ', '2e2e7WgqU1BnpxmQL5jbfw', 'zt1TpTuJ6y9n551sw9TaEg',\n",
    "      'Xhg93cMdemu5pAMkDoEdtQ', 'sIyHTizqAiGu12XMLX3N3g', 'YNQgak-ZLtYJQxlDwN-qIg']\n",
    "\n",
    "w2v_corpus = []  # Documents to train word2vec on (all 6 restaurants).\n",
    "wmd_corpus = []  # Documents to run queries against (only one restaurant).\n",
    "documents = []  # wmd_corpus, with no pre-processing (so we can see the original documents).\n",
    "with open('data/yelp/yelp_academic_dataset_review.json') as data_file:\n",
    "    for line in data_file:\n",
    "        json_line = json.loads(line)\n",
    "        \n",
    "#         if json_line['business_id'] not in ids:\n",
    "#             # Not one of the 6 restaurants.\n",
    "#             continue\n",
    "        \n",
    "        # Pre-process document.\n",
    "        text = json_line['text']  # Extract text from JSON object.\n",
    "        text = preprocess(text)\n",
    "        \n",
    "        # Add to corpus for training Word2Vec.\n",
    "        w2v_corpus.append(text)\n",
    "#         print (text)\n",
    "        \n",
    "        \n",
    "        if json_line['business_id'] == ids[0]:\n",
    "            # Add to corpus for similarity queries.\n",
    "            wmd_corpus.append(text)\n",
    "            documents.append(json_line['text'])\n",
    "\n",
    "            \n",
    "# print (w2v_corpus)\n",
    "print ('Cell took %.2f seconds to run.' %(time() - start))"
   ]
  },
  {
   "cell_type": "markdown",
   "metadata": {},
   "source": [
    "Below is a plot with a histogram of document lengths and includes the average document length as well. Note that these are the pre-processed documents, meaning stopwords are removed, punctuation is removed, etc. Document lengths have a high impact on the running time of WMD, so when comparing running times with this experiment, the number of documents in query corpus (about 4000) and the length of the documents (about 62 words on average) should be taken into account."
   ]
  },
  {
   "cell_type": "code",
   "execution_count": 26,
   "metadata": {},
   "outputs": [
    {
     "name": "stdout",
     "output_type": "stream",
     "text": [
      "[]\n"
     ]
    },
    {
     "name": "stderr",
     "output_type": "stream",
     "text": [
      "/usr/local/lib/python3.5/dist-packages/matplotlib/__init__.py:913: UserWarning: axes.color_cycle is deprecated and replaced with axes.prop_cycle; please use the latter.\n",
      "  warnings.warn(self.msg_depr % (key, alt_key))\n",
      "/usr/local/lib/python3.5/dist-packages/ipykernel_launcher.py:17: MatplotlibDeprecationWarning: pyplot.hold is deprecated.\n",
      "    Future behavior will be consistent with the long-time default:\n",
      "    plot commands add elements without first clearing the\n",
      "    Axes and/or Figure.\n",
      "/usr/local/lib/python3.5/dist-packages/matplotlib/__init__.py:917: UserWarning: axes.hold is deprecated. Please remove it from your matplotlibrc and/or style files.\n",
      "  warnings.warn(self.msg_depr_set % key)\n",
      "/usr/local/lib/python3.5/dist-packages/matplotlib/rcsetup.py:152: UserWarning: axes.hold is deprecated, will be removed in 3.0\n",
      "  warnings.warn(\"axes.hold is deprecated, will be removed in 3.0\")\n"
     ]
    },
    {
     "ename": "ZeroDivisionError",
     "evalue": "float division by zero",
     "output_type": "error",
     "traceback": [
      "\u001b[0;31m---------------------------------------------------------------------------\u001b[0m",
      "\u001b[0;31mZeroDivisionError\u001b[0m                         Traceback (most recent call last)",
      "\u001b[0;32m<ipython-input-26-b6862d07ef9d>\u001b[0m in \u001b[0;36m<module>\u001b[0;34m()\u001b[0m\n\u001b[1;32m     17\u001b[0m \u001b[0mplt\u001b[0m\u001b[0;34m.\u001b[0m\u001b[0mhold\u001b[0m\u001b[0;34m(\u001b[0m\u001b[0;32mTrue\u001b[0m\u001b[0;34m)\u001b[0m\u001b[0;34m\u001b[0m\u001b[0m\n\u001b[1;32m     18\u001b[0m \u001b[0;31m# Average length.\u001b[0m\u001b[0;34m\u001b[0m\u001b[0;34m\u001b[0m\u001b[0m\n\u001b[0;32m---> 19\u001b[0;31m \u001b[0mavg_len\u001b[0m \u001b[0;34m=\u001b[0m \u001b[0msum\u001b[0m\u001b[0;34m(\u001b[0m\u001b[0mlens\u001b[0m\u001b[0;34m)\u001b[0m \u001b[0;34m/\u001b[0m \u001b[0mfloat\u001b[0m\u001b[0;34m(\u001b[0m\u001b[0mlen\u001b[0m\u001b[0;34m(\u001b[0m\u001b[0mlens\u001b[0m\u001b[0;34m)\u001b[0m\u001b[0;34m)\u001b[0m\u001b[0;34m\u001b[0m\u001b[0m\n\u001b[0m\u001b[1;32m     20\u001b[0m \u001b[0mplt\u001b[0m\u001b[0;34m.\u001b[0m\u001b[0maxvline\u001b[0m\u001b[0;34m(\u001b[0m\u001b[0mavg_len\u001b[0m\u001b[0;34m,\u001b[0m \u001b[0mcolor\u001b[0m\u001b[0;34m=\u001b[0m\u001b[0;34m'#e41a1c'\u001b[0m\u001b[0;34m)\u001b[0m\u001b[0;34m\u001b[0m\u001b[0m\n\u001b[1;32m     21\u001b[0m \u001b[0mplt\u001b[0m\u001b[0;34m.\u001b[0m\u001b[0mhold\u001b[0m\u001b[0;34m(\u001b[0m\u001b[0;32mFalse\u001b[0m\u001b[0;34m)\u001b[0m\u001b[0;34m\u001b[0m\u001b[0m\n",
      "\u001b[0;31mZeroDivisionError\u001b[0m: float division by zero"
     ]
    },
    {
     "data": {
      "image/png": "[encoded data removed]",
      "text/plain": [
       "<matplotlib.figure.Figure at 0x7f4a50445c18>"
      ]
     },
     "metadata": {},
     "output_type": "display_data"
    }
   ],
   "source": [
    "from matplotlib import pyplot as plt\n",
    "%matplotlib inline\n",
    "\n",
    "# Document lengths.\n",
    "lens = [len(doc) for doc in wmd_corpus]\n",
    "\n",
    "# print (w2v_corpus)\n",
    "\n",
    "# Plot.\n",
    "plt.rc('figure', figsize=(8,6))\n",
    "plt.rc('font', size=14)\n",
    "plt.rc('lines', linewidth=2)\n",
    "plt.rc('axes', color_cycle=('#377eb8','#e41a1c','#4daf4a',\n",
    "                            '#984ea3','#ff7f00','#ffff33'))\n",
    "# Histogram.\n",
    "plt.hist(lens, bins=20)\n",
    "plt.hold(True)\n",
    "# Average length.\n",
    "avg_len = sum(lens) / float(len(lens))\n",
    "plt.axvline(avg_len, color='#e41a1c')\n",
    "plt.hold(False)\n",
    "plt.title('Histogram of document lengths.')\n",
    "plt.xlabel('Length')\n",
    "plt.text(100, 800, 'mean = %.2f' % avg_len)\n",
    "plt.show()"
   ]
  },
  {
   "cell_type": "markdown",
   "metadata": {},
   "source": [
    "Now we want to initialize the similarity class with a corpus and a word2vec model (which provides the embeddings and the `wmdistance` method itself)."
   ]
  },
  {
   "cell_type": "code",
   "execution_count": 13,
   "metadata": {
    "collapsed": true
   },
   "outputs": [],
   "source": [
    "# Train Word2Vec on all the restaurants.\n",
    "model = Word2Vec(w2v_corpus, workers=3, size=100)\n",
    "\n",
    "# Initialize WmdSimilarity.\n",
    "from gensim.similarities import WmdSimilarity\n",
    "num_best = 10\n",
    "instance = WmdSimilarity(wmd_corpus, model, num_best=10)"
   ]
  },
  {
   "cell_type": "markdown",
   "metadata": {},
   "source": [
    "The `num_best` parameter decides how many results the queries return. Now let's try making a query. The output is a list of indeces and similarities of documents in the corpus, sorted by similarity.\n",
    "\n",
    "Note that the output format is slightly different when `num_best` is `None` (i.e. not assigned). In this case, you get an array of similarities, corresponding to each of the documents in the corpus.\n",
    "\n",
    "The query below is taken directly from one of the reviews in the corpus. Let's see if there are other reviews that are similar to this one."
   ]
  },
  {
   "cell_type": "code",
   "execution_count": 15,
   "metadata": {},
   "outputs": [
    {
     "name": "stdout",
     "output_type": "stream",
     "text": [
      "Cell took 51.17 seconds to run.\n"
     ]
    }
   ],
   "source": [
    "start = time()\n",
    "\n",
    "sent = 'Very good, you should seat outdoor.'\n",
    "query = preprocess(sent)\n",
    "\n",
    "sims = instance[query]  # A query is simply a \"look-up\" in the similarity class.\n",
    "\n",
    "print 'Cell took %.2f seconds to run.' %(time() - start)"
   ]
  },
  {
   "cell_type": "markdown",
   "metadata": {},
   "source": [
    "The query and the most similar documents, together with the similarities, are printed below. We see that the retrieved documents are discussing the same thing as the query, although using different words. The query talks about getting a seat \"outdoor\", while the results talk about sitting \"outside\", and one of them says the restaurant has a \"nice view\"."
   ]
  },
  {
   "cell_type": "code",
   "execution_count": 16,
   "metadata": {},
   "outputs": [
    {
     "name": "stdout",
     "output_type": "stream",
     "text": [
      "Query:\n",
      "Very good, you should seat outdoor.\n",
      "\n",
      "sim = 1.0000\n",
      "Very good, you should seat outdoor.\n",
      "\n",
      "sim = 0.5998\n",
      "It's a great place if you can sit outside in good weather.\n",
      "\n",
      "sim = 0.5798\n",
      "It was good I like the outside\n",
      "\n",
      "sim = 0.5495\n",
      "Always a good bet.\n",
      "\n",
      "sim = 0.5478\n",
      "Sat outside under heat lamps.  Good service and good food.  Wonderful place\n",
      "\n",
      "sim = 0.5474\n",
      "Patio is awesome but can get crowded.\n",
      "\n",
      "sim = 0.5464\n",
      "The steak was good. Prices reasonable for the strip and it was a great view with the outdoor seating.\n",
      "\n",
      "sim = 0.5453\n",
      "Best seat in the house with view of water fountain, good wine, good food n good service.\n",
      "\n",
      "sim = 0.5443\n",
      "nice view, good service\n",
      "\n",
      "sim = 0.5403\n",
      "Good value restaurant on strip! \n",
      "Great view take outside seat good food!\n",
      "However, be sure you make reservation!\n"
     ]
    }
   ],
   "source": [
    "# Print the query and the retrieved documents, together with their similarities.\n",
    "print 'Query:'\n",
    "print sent\n",
    "for i in range(num_best):\n",
    "    print\n",
    "    print 'sim = %.4f' % sims[i][1]\n",
    "    print documents[sims[i][0]]"
   ]
  },
  {
   "cell_type": "markdown",
   "metadata": {},
   "source": [
    "Let's try a different query, also taken directly from one of the reviews in the corpus."
   ]
  },
  {
   "cell_type": "code",
   "execution_count": 17,
   "metadata": {},
   "outputs": [
    {
     "name": "stdout",
     "output_type": "stream",
     "text": [
      "Query:\n",
      "I felt that the prices were extremely reasonable for the Strip\n",
      "\n",
      "sim = 0.5691\n",
      "Reasonable prices. Makes for a nice dinner out in the town.\n",
      "\n",
      "sim = 0.5485\n",
      "The steak was good. Prices reasonable for the strip and it was a great view with the outdoor seating.\n",
      "\n",
      "sim = 0.5457\n",
      "Exceptional food at reasonable prices.  Reservations are a must.\n",
      "\n",
      "sim = 0.5378\n",
      "Good food, great atmosphere, reasonable prices.  Right in the middle of the Strip.  Nothing not to like here.\n",
      "\n",
      "sim = 0.5376\n",
      "Incredible restaurant on the strip! Very reasonable prices, outstanding service, an breathtaking views. Bar none, my favorite meal on the Strip.\n",
      "\n",
      "sim = 0.5346\n",
      "don't let the tourist location throw you. terrific French food on the strip without the strip prices.\n",
      "\n",
      "sim = 0.5334\n",
      "Had lunch here, food price was very reasonable for vegas and the atmosphere was great.\n",
      "\n",
      "sim = 0.5278\n",
      "Nice place to take a date at a reasonable price.\n",
      "\n",
      "sim = 0.5264\n",
      "Really good food at decent prices (for being on the strip).  Not a traditional steakhouse but just as good as many of them.  Sitting out on the strip is very nice at nighttime.\n",
      "\n",
      "sim = 0.5253\n",
      "Great value on the strip and good quality food.\n",
      "\n",
      "Cell took 62.98 seconds to run.\n"
     ]
    }
   ],
   "source": [
    "start = time()\n",
    "\n",
    "sent = 'I felt that the prices were extremely reasonable for the Strip'\n",
    "query = preprocess(sent)\n",
    "\n",
    "sims = instance[query]  # A query is simply a \"look-up\" in the similarity class.\n",
    "\n",
    "print 'Query:'\n",
    "print sent\n",
    "for i in range(num_best):\n",
    "    print\n",
    "    print 'sim = %.4f' % sims[i][1]\n",
    "    print documents[sims[i][0]]\n",
    "\n",
    "print '\\nCell took %.2f seconds to run.' %(time() - start)"
   ]
  },
  {
   "cell_type": "markdown",
   "metadata": {},
   "source": [
    "This time around, the results are more straight forward; the retrieved documents basically contain the same words as the query.\n",
    "\n",
    "`WmdSimilarity` normalizes the word embeddings by default (using `init_sims()`, as explained before), but you can overwrite this behaviour by calling `WmdSimilarity` with `normalize_w2v_and_replace=False`."
   ]
  },
  {
   "cell_type": "code",
   "execution_count": 36,
   "metadata": {},
   "outputs": [
    {
     "name": "stdout",
     "output_type": "stream",
     "text": [
      "Notebook took 181.05 seconds to run.\n"
     ]
    }
   ],
   "source": [
    "print 'Notebook took %.2f seconds to run.' %(time() - start_nb)"
   ]
  },
  {
   "cell_type": "markdown",
   "metadata": {},
   "source": [
    "## References\n",
    "\n",
    "1. Ofir Pele and Michael Werman, *A linear time histogram metric for improved SIFT matching*, 2008.\n",
    "* Ofir Pele and Michael Werman, *Fast and robust earth mover's distances*, 2009.\n",
    "* Matt Kusner et al. *From Embeddings To Document Distances*, 2015.\n",
    "* Thomas Mikolov et al. *Efficient Estimation of Word Representations in Vector Space*, 2013."
   ]
  }
 ],
 "metadata": {
  "kernelspec": {
   "display_name": "Python 3",
   "language": "python",
   "name": "python3"
  },
  "language_info": {
   "codemirror_mode": {
    "name": "ipython",
    "version": 3
   },
   "file_extension": ".py",
   "mimetype": "text/x-python",
   "name": "python",
   "nbconvert_exporter": "python",
   "pygments_lexer": "ipython3",
   "version": "3.5.2"
  }
 },
 "nbformat": 4,
 "nbformat_minor": 1
}
