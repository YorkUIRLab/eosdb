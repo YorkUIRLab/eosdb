{
 "cells": [
  {
   "cell_type": "markdown",
   "metadata": {},
   "source": [
    "# Classification and prediction of topics"
   ]
  },
  {
   "cell_type": "code",
   "execution_count": 152,
   "metadata": {},
   "outputs": [],
   "source": [
    "import pandas as pd\n",
    "import numpy as np\n",
    "import matplotlib.pyplot as plt\n",
    "\n",
    "from sklearn.model_selection import train_test_split\n",
    "from sklearn.feature_extraction.text import CountVectorizer\n",
    "from sklearn.feature_extraction.text import TfidfVectorizer\n",
    "from sklearn.metrics import precision_score, accuracy_score, roc_curve, confusion_matrix\n",
    "\n",
    "%matplotlib inline"
   ]
  },
  {
   "cell_type": "code",
   "execution_count": 2,
   "metadata": {},
   "outputs": [
    {
     "data": {
      "text/html": [
       "<div>\n",
       "<table border=\"1\" class=\"dataframe\">\n",
       "  <thead>\n",
       "    <tr style=\"text-align: right;\">\n",
       "      <th></th>\n",
       "      <th>0</th>\n",
       "      <th>label</th>\n",
       "      <th>1</th>\n",
       "      <th>2</th>\n",
       "      <th>3</th>\n",
       "      <th>4</th>\n",
       "      <th>5</th>\n",
       "      <th>6</th>\n",
       "      <th>7</th>\n",
       "      <th>8</th>\n",
       "      <th>...</th>\n",
       "      <th>28</th>\n",
       "      <th>29</th>\n",
       "      <th>30</th>\n",
       "      <th>label_w2v_no</th>\n",
       "      <th>label_w2v_scale</th>\n",
       "      <th>label_w2v_normalize</th>\n",
       "      <th>label_wmd_distance</th>\n",
       "      <th>label_wmd_normalize</th>\n",
       "      <th>label_wmd_scale</th>\n",
       "      <th>label_tfidf_normalize</th>\n",
       "    </tr>\n",
       "  </thead>\n",
       "  <tbody>\n",
       "    <tr>\n",
       "      <th>0</th>\n",
       "      <td>2012_01_01</td>\n",
       "      <td>violence/terrorism</td>\n",
       "      <td>syrian</td>\n",
       "      <td>assad</td>\n",
       "      <td>say</td>\n",
       "      <td>syria</td>\n",
       "      <td>killed</td>\n",
       "      <td>damascus</td>\n",
       "      <td>people</td>\n",
       "      <td>regime</td>\n",
       "      <td>...</td>\n",
       "      <td>civilian</td>\n",
       "      <td>least</td>\n",
       "      <td>journalist</td>\n",
       "      <td>20</td>\n",
       "      <td>3</td>\n",
       "      <td>20</td>\n",
       "      <td>34</td>\n",
       "      <td>6</td>\n",
       "      <td>60</td>\n",
       "      <td>15</td>\n",
       "    </tr>\n",
       "    <tr>\n",
       "      <th>1</th>\n",
       "      <td>2012_01_02</td>\n",
       "      <td>misc</td>\n",
       "      <td>use</td>\n",
       "      <td>osc</td>\n",
       "      <td>copyrighted_material</td>\n",
       "      <td>dissemination</td>\n",
       "      <td>usage</td>\n",
       "      <td>reproduction</td>\n",
       "      <td>original</td>\n",
       "      <td>authorize</td>\n",
       "      <td>...</td>\n",
       "      <td>al</td>\n",
       "      <td>agency</td>\n",
       "      <td>location</td>\n",
       "      <td>36</td>\n",
       "      <td>6</td>\n",
       "      <td>25</td>\n",
       "      <td>49</td>\n",
       "      <td>2</td>\n",
       "      <td>60</td>\n",
       "      <td>46</td>\n",
       "    </tr>\n",
       "    <tr>\n",
       "      <th>2</th>\n",
       "      <td>2012_01_03</td>\n",
       "      <td>misc</td>\n",
       "      <td>will</td>\n",
       "      <td>year</td>\n",
       "      <td>can</td>\n",
       "      <td>people</td>\n",
       "      <td>one</td>\n",
       "      <td>country</td>\n",
       "      <td>party</td>\n",
       "      <td>make</td>\n",
       "      <td>...</td>\n",
       "      <td>change</td>\n",
       "      <td>political</td>\n",
       "      <td>just</td>\n",
       "      <td>15</td>\n",
       "      <td>15</td>\n",
       "      <td>19</td>\n",
       "      <td>10</td>\n",
       "      <td>3</td>\n",
       "      <td>60</td>\n",
       "      <td>8</td>\n",
       "    </tr>\n",
       "    <tr>\n",
       "      <th>3</th>\n",
       "      <td>2012_01_04</td>\n",
       "      <td>misc</td>\n",
       "      <td>quot</td>\n",
       "      <td>apos</td>\n",
       "      <td>say</td>\n",
       "      <td>the</td>\n",
       "      <td>we</td>\n",
       "      <td>it</td>\n",
       "      <td>reuters</td>\n",
       "      <td>terrorists</td>\n",
       "      <td>...</td>\n",
       "      <td>but</td>\n",
       "      <td>don</td>\n",
       "      <td>protest</td>\n",
       "      <td>38</td>\n",
       "      <td>25</td>\n",
       "      <td>10</td>\n",
       "      <td>20</td>\n",
       "      <td>23</td>\n",
       "      <td>60</td>\n",
       "      <td>6</td>\n",
       "    </tr>\n",
       "    <tr>\n",
       "      <th>4</th>\n",
       "      <td>2012_01_05</td>\n",
       "      <td>violence/terrorism</td>\n",
       "      <td>baghdad</td>\n",
       "      <td>iraq</td>\n",
       "      <td>sunni</td>\n",
       "      <td>killed</td>\n",
       "      <td>bomb</td>\n",
       "      <td>iraqi</td>\n",
       "      <td>attacks</td>\n",
       "      <td>wound</td>\n",
       "      <td>...</td>\n",
       "      <td>sadr</td>\n",
       "      <td>basra</td>\n",
       "      <td>near</td>\n",
       "      <td>26</td>\n",
       "      <td>5</td>\n",
       "      <td>11</td>\n",
       "      <td>18</td>\n",
       "      <td>14</td>\n",
       "      <td>60</td>\n",
       "      <td>29</td>\n",
       "    </tr>\n",
       "  </tbody>\n",
       "</table>\n",
       "<p>5 rows × 39 columns</p>\n",
       "</div>"
      ],
      "text/plain": [
       "<div>\n",
       "<table border=\"1\" class=\"dataframe\">\n",
       "  <thead>\n",
       "    <tr style=\"text-align: right;\">\n",
       "      <th></th>\n",
       "      <th>0</th>\n",
       "      <th>label</th>\n",
       "      <th>1</th>\n",
       "      <th>2</th>\n",
       "      <th>3</th>\n",
       "      <th>4</th>\n",
       "      <th>5</th>\n",
       "      <th>6</th>\n",
       "      <th>7</th>\n",
       "      <th>8</th>\n",
       "      <th>...</th>\n",
       "      <th>28</th>\n",
       "      <th>29</th>\n",
       "      <th>30</th>\n",
       "      <th>label_w2v_no</th>\n",
       "      <th>label_w2v_scale</th>\n",
       "      <th>label_w2v_normalize</th>\n",
       "      <th>label_wmd_distance</th>\n",
       "      <th>label_wmd_normalize</th>\n",
       "      <th>label_wmd_scale</th>\n",
       "      <th>label_tfidf_normalize</th>\n",
       "    </tr>\n",
       "  </thead>\n",
       "  <tbody>\n",
       "    <tr>\n",
       "      <th>0</th>\n",
       "      <td>2012_01_01</td>\n",
       "      <td>violence/terrorism</td>\n",
       "      <td>syrian</td>\n",
       "      <td>assad</td>\n",
       "      <td>say</td>\n",
       "      <td>syria</td>\n",
       "      <td>killed</td>\n",
       "      <td>damascus</td>\n",
       "      <td>people</td>\n",
       "      <td>regime</td>\n",
       "      <td>...</td>\n",
       "      <td>civilian</td>\n",
       "      <td>least</td>\n",
       "      <td>journalist</td>\n",
       "      <td>20</td>\n",
       "      <td>3</td>\n",
       "      <td>20</td>\n",
       "      <td>34</td>\n",
       "      <td>6</td>\n",
       "      <td>60</td>\n",
       "      <td>15</td>\n",
       "    </tr>\n",
       "    <tr>\n",
       "      <th>1</th>\n",
       "      <td>2012_01_02</td>\n",
       "      <td>misc</td>\n",
       "      <td>use</td>\n",
       "      <td>osc</td>\n",
       "      <td>copyrighted_material</td>\n",
       "      <td>dissemination</td>\n",
       "      <td>usage</td>\n",
       "      <td>reproduction</td>\n",
       "      <td>original</td>\n",
       "      <td>authorize</td>\n",
       "      <td>...</td>\n",
       "      <td>al</td>\n",
       "      <td>agency</td>\n",
       "      <td>location</td>\n",
       "      <td>36</td>\n",
       "      <td>6</td>\n",
       "      <td>25</td>\n",
       "      <td>49</td>\n",
       "      <td>2</td>\n",
       "      <td>60</td>\n",
       "      <td>46</td>\n",
       "    </tr>\n",
       "    <tr>\n",
       "      <th>2</th>\n",
       "      <td>2012_01_03</td>\n",
       "      <td>misc</td>\n",
       "      <td>will</td>\n",
       "      <td>year</td>\n",
       "      <td>can</td>\n",
       "      <td>people</td>\n",
       "      <td>one</td>\n",
       "      <td>country</td>\n",
       "      <td>party</td>\n",
       "      <td>make</td>\n",
       "      <td>...</td>\n",
       "      <td>change</td>\n",
       "      <td>political</td>\n",
       "      <td>just</td>\n",
       "      <td>15</td>\n",
       "      <td>15</td>\n",
       "      <td>19</td>\n",
       "      <td>10</td>\n",
       "      <td>3</td>\n",
       "      <td>60</td>\n",
       "      <td>8</td>\n",
       "    </tr>\n",
       "    <tr>\n",
       "      <th>3</th>\n",
       "      <td>2012_01_04</td>\n",
       "      <td>misc</td>\n",
       "      <td>quot</td>\n",
       "      <td>apos</td>\n",
       "      <td>say</td>\n",
       "      <td>the</td>\n",
       "      <td>we</td>\n",
       "      <td>it</td>\n",
       "      <td>reuters</td>\n",
       "      <td>terrorists</td>\n",
       "      <td>...</td>\n",
       "      <td>but</td>\n",
       "      <td>don</td>\n",
       "      <td>protest</td>\n",
       "      <td>38</td>\n",
       "      <td>25</td>\n",
       "      <td>10</td>\n",
       "      <td>20</td>\n",
       "      <td>23</td>\n",
       "      <td>60</td>\n",
       "      <td>6</td>\n",
       "    </tr>\n",
       "    <tr>\n",
       "      <th>4</th>\n",
       "      <td>2012_01_05</td>\n",
       "      <td>violence/terrorism</td>\n",
       "      <td>baghdad</td>\n",
       "      <td>iraq</td>\n",
       "      <td>sunni</td>\n",
       "      <td>killed</td>\n",
       "      <td>bomb</td>\n",
       "      <td>iraqi</td>\n",
       "      <td>attacks</td>\n",
       "      <td>wound</td>\n",
       "      <td>...</td>\n",
       "      <td>sadr</td>\n",
       "      <td>basra</td>\n",
       "      <td>near</td>\n",
       "      <td>26</td>\n",
       "      <td>5</td>\n",
       "      <td>11</td>\n",
       "      <td>18</td>\n",
       "      <td>14</td>\n",
       "      <td>60</td>\n",
       "      <td>29</td>\n",
       "    </tr>\n",
       "  </tbody>\n",
       "</table>\n",
       "<p>5 rows × 39 columns</p>\n",
       "</div>"
      ]
     },
     "execution_count": 2,
     "metadata": {},
     "output_type": "execute_result"
    }
   ],
   "source": [
    "topic_df = pd.read_csv('experiment/result_all_windows_labels.csv')\n",
    "topic_df.head()"
   ]
  },
  {
   "cell_type": "code",
   "execution_count": 4,
   "metadata": {},
   "outputs": [
    {
     "name": "stdout",
     "output_type": "stream",
     "text": [
      "{'economical': 5, 'environmental': 6, 'religious': 4, 'misc': 2, 'political': 3, 'violence/terrorism': 1}\n"
     ]
    },
    {
     "data": {
      "text/plain": [
       "<matplotlib.axes._subplots.AxesSubplot at 0x7f4ea5cd9da0>"
      ]
     },
     "execution_count": 4,
     "metadata": {},
     "output_type": "execute_result"
    },
    {
     "data": {
      "image/png": "[encoded data removed]",
      "text/plain": [
       "<matplotlib.figure.Figure at 0x7f4ea5cb3ac8>"
      ]
     },
     "metadata": {},
     "output_type": "display_data"
    }
   ],
   "source": [
    "topic_df = topic_df[topic_df['label'].notnull()]\n",
    "\n",
    "\n",
    "label_cat = {'violence/terrorism' : 1, 'misc': 2, \n",
    "             'political': 3, 'religious': 4, \n",
    "             'economical': 5, 'environmental': 6}\n",
    "print(label_cat) \n",
    "\n",
    "\n",
    "def to_category(x):\n",
    "    return label_cat[x]\n",
    "\n",
    "topic_df['target'] = topic_df.apply(lambda row: to_category(row['label']), axis=1)\n",
    "\n",
    "plt.figure()\n",
    "topic_df['target'].plot.hist(alpha=0.5)\n",
    "# Okay for now?\n",
    "\n",
    "\n",
    "# topic_df"
   ]
  },
  {
   "cell_type": "markdown",
   "metadata": {},
   "source": [
    "## Text Vector-representation (Bag of Words) "
   ]
  },
  {
   "cell_type": "code",
   "execution_count": 5,
   "metadata": {},
   "outputs": [],
   "source": [
    "topic_corpus = []\n",
    "\n",
    "for index, row in topic_df.iloc[ :, 2:32].iterrows():\n",
    "    topic_corpus.append(u' '.join(row.tolist()))\n",
    "\n",
    "# topic_corpus\n",
    "\n",
    "# Step 1: learn vocabulary of topics\n",
    "vectorizer = CountVectorizer()\n",
    "vectorizer.fit(topic_corpus)\n",
    "# vectorizer.get_feature_names()\n",
    "\n",
    "# Step 2: Vectorize the topic documents - dtm = document-token matrix\n",
    "X_dtm = vectorizer.transform(topic_corpus)\n",
    "\n",
    "# pd.DataFrame(data=X_dtm.toarray(), columns=vectorizer.get_feature_names(), index=topic_df['0'])"
   ]
  },
  {
   "cell_type": "markdown",
   "metadata": {},
   "source": [
    "## Bag of Words"
   ]
  },
  {
   "cell_type": "code",
   "execution_count": 6,
   "metadata": {},
   "outputs": [],
   "source": [
    "X = topic_corpus\n",
    "y = topic_df['target']\n",
    "\n",
    "X_train, X_test, y_train, y_test = train_test_split(X, y, test_size=0.2, stratify=y, random_state=1)"
   ]
  },
  {
   "cell_type": "code",
   "execution_count": 21,
   "metadata": {},
   "outputs": [
    {
     "name": "stdout",
     "output_type": "stream",
     "text": [
      "404 404\n101 101\n"
     ]
    }
   ],
   "source": [
    "print(len(X_train), len(y_train))\n",
    "print(len(X_test), len(y_test))\n",
    "# print(y)"
   ]
  },
  {
   "cell_type": "code",
   "execution_count": 95,
   "metadata": {
    "collapsed": true
   },
   "outputs": [],
   "source": [
    "# vect = CountVectorizer(min_df=2)\n",
    "vect = TfidfVectorizer(norm='l2')\n",
    "X_train_dtm = vect.fit_transform(X_train)\n",
    "X_test_dtm = vect.transform(X_test)"
   ]
  },
  {
   "cell_type": "markdown",
   "metadata": {},
   "source": [
    "# Building classifier"
   ]
  },
  {
   "cell_type": "code",
   "execution_count": 101,
   "metadata": {
    "collapsed": false
   },
   "outputs": [
    {
     "name": "stdout",
     "output_type": "stream",
     "text": [
      "Precision:  [ 0.84615385  0.96551724  0.75555556  0.          1.        ]\naccuracy:  0.841584158416\nrecall:  [ 0.84615385  0.96551724  0.75555556  0.          1.        ]\n[[22  0  7  0  0]\n [ 0 28  0  0  0]\n [ 3  0 34  0  0]\n [ 1  1  1  0  0]\n [ 0  0  3  0  1]]\nCPU times: user 4 ms, sys: 0 ns, total: 4 ms\nWall time: 3.38 ms\n"
     ]
    },
    {
     "name": "stderr",
     "output_type": "stream",
     "text": [
      "/usr/local/lib/python3.5/dist-packages/sklearn/metrics/classification.py:1113: UndefinedMetricWarning: Precision is ill-defined and being set to 0.0 in labels with no predicted samples.\n  'precision', 'predicted', average, warn_for)\n"
     ]
    }
   ],
   "source": [
    "%%time\n",
    "\n",
    "\n",
    "from sklearn.naive_bayes import MultinomialNB\n",
    "\n",
    "# Create instance of estimator\n",
    "nb = MultinomialNB()\n",
    "# Train the model\n",
    "nb.fit(X_train_dtm, y_train)\n",
    "# Evaluate\n",
    "y_pred_test = nb.predict(X_test_dtm)\n",
    "precision = precision_score(y_pred=y_pred_test, y_true=y_test, average=None)\n",
    "accuracy = accuracy_score(y_pred=y_pred_test, y_true=y_test)\n",
    "recall = precision_score(y_pred=y_pred_test, y_true=y_test, average=None)\n",
    "# \n",
    "CM = confusion_matrix(y_pred=y_pred_test, y_true=y_test)\n",
    "# \n",
    "print('Precision: ', precision)\n",
    "print('accuracy: ', accuracy)\n",
    "print('recall: ', recall)\n",
    "print(CM)"
   ]
  },
  {
   "cell_type": "markdown",
   "metadata": {},
   "source": [
    "## Logistic Regression"
   ]
  },
  {
   "cell_type": "code",
   "execution_count": 142,
   "metadata": {},
   "outputs": [
    {
     "name": "stdout",
     "output_type": "stream",
     "text": [
      "Precision:  [ 0.81481481  0.90322581  0.775       0.          1.        ]\naccuracy:  0.831683168317\nrecall:  [ 0.81481481  0.90322581  0.775       0.          1.        ]\n[[22  0  7  0  0]\n [ 0 28  0  0  0]\n [ 4  2 31  0  0]\n [ 1  1  1  0  0]\n [ 0  0  1  0  3]]\n"
     ]
    },
    {
     "name": "stderr",
     "output_type": "stream",
     "text": [
      "/usr/local/lib/python3.5/dist-packages/sklearn/metrics/classification.py:1113: UndefinedMetricWarning: Precision is ill-defined and being set to 0.0 in labels with no predicted samples.\n  'precision', 'predicted', average, warn_for)\n"
     ]
    }
   ],
   "source": [
    "from sklearn.linear_model import LogisticRegression\n",
    "\n",
    "# Create instance of estimator\n",
    "logistic_regression = LogisticRegression(C=15, n_jobs=-1, random_state=15)\n",
    "# Train\n",
    "logistic_regression.fit(X_train_dtm, y_train)\n",
    "# Evaluate\n",
    "y_pred_test = logistic_regression.predict(X_test_dtm)\n",
    "precision = precision_score(y_pred=y_pred_test, y_true=y_test, average=None)\n",
    "accuracy = accuracy_score(y_pred=y_pred_test, y_true=y_test)\n",
    "recall = precision_score(y_pred=y_pred_test, y_true=y_test, average=None)\n",
    "# \n",
    "CM = confusion_matrix(y_pred=y_pred_test, y_true=y_test)\n",
    "# \n",
    "print('Precision: ', precision)\n",
    "print('accuracy: ', accuracy)\n",
    "print('recall: ', recall)\n",
    "print(CM)"
   ]
  },
  {
   "cell_type": "code",
   "execution_count": 154,
   "metadata": {},
   "outputs": [
    {
     "data": {
      "text/plain": [
       "<matplotlib.text.Text at 0x7f4e97b3e438>"
      ]
     },
     "execution_count": 154,
     "metadata": {},
     "output_type": "execute_result"
    },
    {
     "data": {
      "image/png": "[encoded data removed]",
      "text/plain": [
       "<matplotlib.figure.Figure at 0x7f4e97b26da0>"
      ]
     },
     "metadata": {},
     "output_type": "display_data"
    }
   ],
   "source": [
    "# store the predicted probabilities for class 1\n",
    "y_pred_prob = logistic_regression.predict_proba(X_train_dtm)[:, 0]\n",
    "# histogram of predicted probabilities\n",
    "\n",
    "\n",
    "# 8 bins\n",
    "plt.hist(y_pred_prob, bins=8)\n",
    "\n",
    "# x-axis limit from 0 to 1\n",
    "plt.xlim(0,1)\n",
    "plt.title('Histogram of predicted probabilities')\n",
    "plt.xlabel('Predicted probability of topics')\n",
    "plt.ylabel('Frequency')"
   ]
  },
  {
   "cell_type": "markdown",
   "metadata": {},
   "source": [
    "## Classification Trees"
   ]
  },
  {
   "cell_type": "code",
   "execution_count": null,
   "metadata": {},
   "outputs": [],
   "source": [
    ""
   ]
  },
  {
   "cell_type": "code",
   "execution_count": 98,
   "metadata": {},
   "outputs": [
    {
     "name": "stdout",
     "output_type": "stream",
     "text": [
      "Precision:  [ 0.82608696  0.92        0.64        0.          1.        ]\naccuracy:  0.762376237624\nrecall:  [ 0.82608696  0.92        0.64        0.          1.        ]\n[[19  0 10  0  0]\n [ 0 23  5  0  0]\n [ 3  2 32  0  0]\n [ 1  0  2  0  0]\n [ 0  0  1  0  3]]\n"
     ]
    },
    {
     "name": "stderr",
     "output_type": "stream",
     "text": [
      "/usr/local/lib/python3.5/dist-packages/sklearn/metrics/classification.py:1113: UndefinedMetricWarning: Precision is ill-defined and being set to 0.0 in labels with no predicted samples.\n  'precision', 'predicted', average, warn_for)\n"
     ]
    }
   ],
   "source": [
    "from sklearn.tree import DecisionTreeClassifier\n",
    "\n",
    "class_tree = DecisionTreeClassifier(max_depth=10, random_state=10)\n",
    "\n",
    "class_tree.fit(X_train_dtm, y_train)\n",
    "\n",
    "# Evaluate\n",
    "y_pred_test = class_tree.predict(X_test_dtm)\n",
    "precision = precision_score(y_pred=y_pred_test, y_true=y_test, average=None)\n",
    "accuracy = accuracy_score(y_pred=y_pred_test, y_true=y_test)\n",
    "recall = precision_score(y_pred=y_pred_test, y_true=y_test, average=None)\n",
    "# \n",
    "CM = confusion_matrix(y_pred=y_pred_test, y_true=y_test)\n",
    "# \n",
    "print('Precision: ', precision)\n",
    "print('accuracy: ', accuracy)\n",
    "print('recall: ', recall)\n",
    "print(CM)"
   ]
  },
  {
   "cell_type": "markdown",
   "metadata": {},
   "source": [
    "## Naive Bayes Classifier - GaussianNB"
   ]
  },
  {
   "cell_type": "code",
   "execution_count": 99,
   "metadata": {},
   "outputs": [
    {
     "name": "stdout",
     "output_type": "stream",
     "text": [
      "Precision:  [ 0.80769231  0.92857143  0.74418605  0.          1.        ]\naccuracy:  0.811881188119\nrecall:  [ 0.80769231  0.92857143  0.74418605  0.          1.        ]\n[[21  0  8  0  0]\n [ 0 26  1  1  0]\n [ 4  1 32  0  0]\n [ 1  1  1  0  0]\n [ 0  0  1  0  3]]\n"
     ]
    }
   ],
   "source": [
    "from sklearn.naive_bayes import GaussianNB\n",
    "\n",
    "# Create instance of estimator\n",
    "gnb = GaussianNB()\n",
    "# Train the model\n",
    "gnb.fit(X_train_dtm.toarray(), y_train)\n",
    "# Evaluate\n",
    "y_pred_test = gnb.predict(X_test_dtm.toarray())\n",
    "precision = precision_score(y_pred=y_pred_test, y_true=y_test, average=None)\n",
    "accuracy = accuracy_score(y_pred=y_pred_test, y_true=y_test)\n",
    "recall = precision_score(y_pred=y_pred_test, y_true=y_test, average=None)\n",
    "# \n",
    "CM = confusion_matrix(y_pred=y_pred_test, y_true=y_test)\n",
    "# \n",
    "print('Precision: ', precision)\n",
    "print('accuracy: ', accuracy)\n",
    "print('recall: ', recall)\n",
    "print(CM)"
   ]
  },
  {
   "cell_type": "code",
   "execution_count": 100,
   "metadata": {},
   "outputs": [
    {
     "name": "stdout",
     "output_type": "stream",
     "text": [
      "['hagel iraqi baghdad iraq forces abadi troop terry coalition kuwait secretary_chuck commander us army islamic_state defense train prime_minister advise james_terry obama security is_militant military lieutenant_general']\n3\n"
     ]
    }
   ],
   "source": [
    "def predict_topic(model, doc):\n",
    "    prediction = model.predict(vect.transform(doc))[0]\n",
    "    print(doc)\n",
    "    print(prediction)\n",
    "    \n",
    "predict_topic(class_tree, ['hagel iraqi baghdad iraq forces abadi troop terry coalition kuwait secretary_chuck commander us army islamic_state defense train prime_minister advise james_terry obama security is_militant military lieutenant_general'])"
   ]
  },
  {
   "cell_type": "code",
   "execution_count": 155,
   "metadata": {},
   "outputs": [],
   "source": [
    "# df_X_test = pd.DataFrame(X_test)\n",
    "# type(df_X_test)\n",
    "# \n",
    "# # print(y_test)\n",
    "# df_X_test[y_pred_test > y_test]"
   ]
  },
  {
   "cell_type": "code",
   "execution_count": null,
   "metadata": {},
   "outputs": [],
   "source": [
    ""
   ]
  }
 ],
 "metadata": {
  "kernelspec": {
   "display_name": "Python 3",
   "language": "python",
   "name": "python3"
  },
  "language_info": {
   "codemirror_mode": {
    "name": "ipython",
    "version": 3.0
   },
   "file_extension": ".py",
   "mimetype": "text/x-python",
   "name": "python",
   "nbconvert_exporter": "python",
   "pygments_lexer": "ipython3",
   "version": "3.5.2"
  }
 },
 "nbformat": 4,
 "nbformat_minor": 0
}