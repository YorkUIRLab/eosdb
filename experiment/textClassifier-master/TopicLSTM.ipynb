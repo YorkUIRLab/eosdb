{
 "cells": [
  {
   "cell_type": "markdown",
   "metadata": {
    "_cell_guid": "5b2497b3-60ee-7cd0-0625-f103214c0ed4"
   },
   "source": [
    "**Created by Peter Nagy February 2017 [Github][1]**\n",
    "\n",
    "  [1]: https://github.com/nagypeterjob"
   ]
  },
  {
   "cell_type": "markdown",
   "metadata": {
    "_cell_guid": "39c44f0e-d62c-7e11-a542-4fcd58e21442"
   },
   "source": [
    "As an improvement to my previous [Kernel][1], here I am trying to achieve better results with a Recurrent Neural Network.\n",
    "\n",
    "  [1]: https://www.kaggle.com/ngyptr/d/crowdflower/first-gop-debate-twitter-sentiment/python-nltk-sentiment-analysis"
   ]
  },
  {
   "cell_type": "code",
   "execution_count": 1,
   "metadata": {
    "_cell_guid": "6c53202d-5c34-4859-e7e9-8ef5c7068287"
   },
   "outputs": [
    {
     "name": "stderr",
     "output_type": "stream",
     "text": [
      "Using Theano backend.\n",
      "WARNING (theano.tensor.blas): Using NumPy C-API based implementation for BLAS functions.\n"
     ]
    }
   ],
   "source": [
    "# This Python 3 environment comes with many helpful analytics libraries installed\n",
    "# It is defined by the kaggle/python docker image: https://github.com/kaggle/docker-python\n",
    "# For example, here's several helpful packages to load in \n",
    "\n",
    "import numpy as np # linear algebra\n",
    "import pandas as pd # data processing, CSV file I/O (e.g. pd.read_csv)\n",
    "\n",
    "import os\n",
    "os.environ['KERAS_BACKEND']='theano'\n",
    "\n",
    "from sklearn.feature_extraction.text import CountVectorizer\n",
    "from keras.preprocessing.text import Tokenizer\n",
    "from keras.preprocessing.sequence import pad_sequences\n",
    "from keras.models import Sequential\n",
    "from keras.layers import Input, Dense, Embedding, LSTM, Conv2D, MaxPool2D\n",
    "from keras.layers import Reshape, Flatten, Dropout, Concatenate\n",
    "from keras.optimizers import Adam\n",
    "from keras.models import Model\n",
    "from keras.callbacks import ModelCheckpoint\n",
    "from sklearn.model_selection import train_test_split\n",
    "from keras.utils.np_utils import to_categorical\n",
    "import re\n",
    "from keras.callbacks import EarlyStopping, ModelCheckpoint\n",
    "\n",
    "seed = 42\n",
    "np.random.seed(seed)\n",
    "\n",
    "import matplotlib.pyplot as plt\n",
    "%matplotlib inline"
   ]
  },
  {
   "cell_type": "markdown",
   "metadata": {
    "_cell_guid": "2bc2702e-d6f4-df5f-b80e-50ab23a6d29e"
   },
   "source": [
    "Only keeping the necessary columns."
   ]
  },
  {
   "cell_type": "code",
   "execution_count": 2,
   "metadata": {},
   "outputs": [
    {
     "name": "stdout",
     "output_type": "stream",
     "text": [
      "{'violence/terrorism': 1, 'political': 3, 'misc': 2}\n"
     ]
    },
    {
     "data": {
      "text/plain": [
       "0    syrian assad say syria killed damascus people ...\n",
       "1    use osc copyrighted_material dissemination usa...\n",
       "2    will year can people one country party make sa...\n",
       "3    quot apos say the we it reuters terrorists ass...\n",
       "4    baghdad iraq sunni killed bomb iraqi attacks w...\n",
       "Name: topicFlat, dtype: object"
      ]
     },
     "execution_count": 2,
     "metadata": {},
     "output_type": "execute_result"
    },
    {
     "data": {
      "image/png": "[encoded data removed]",
      "text/plain": [
       "<matplotlib.figure.Figure at 0x7fa130b862e8>"
      ]
     },
     "metadata": {},
     "output_type": "display_data"
    }
   ],
   "source": [
    "MAX_SEQUENCE_LENGTH = 1000 # top 30\n",
    "MAX_NB_WORDS = 20000 # more than vocab size\n",
    "EMBEDDING_DIM = 100\n",
    "VALIDATION_SPLIT = 0.2\n",
    "\n",
    "\n",
    "data_train = pd.read_csv('../result_all_windows_labels.csv')\n",
    "\n",
    "# Cleanup - remove no labels\n",
    "data_train = data_train[data_train['label'].notnull()]\n",
    "data_train = data_train[data_train.label != 'environmental']\n",
    "data_train = data_train[data_train.label != 'religious']\n",
    "data_train = data_train[data_train.label != 'economical']\n",
    "\n",
    "\n",
    "label_cat = {'violence/terrorism' : 1, 'misc': 2, 'political': 3, \n",
    "#              'religious': 4, 'economical': 5, 'environmental': 6\n",
    "            }\n",
    "print(label_cat) \n",
    "\n",
    "\n",
    "def to_category(x):\n",
    "    return label_cat[x]\n",
    "\n",
    "data_train['target'] = data_train.apply(lambda row: to_category(row['label']), axis=1)\n",
    "\n",
    "data_train['target'].plot.hist(alpha=0.5)\n",
    "\n",
    "texts = []\n",
    "# Get corpus by joining all keywords\n",
    "for index, row in data_train.iloc[ :, 2:32].iterrows():\n",
    "    texts.append(u' '.join(row.tolist()))\n",
    "    \n",
    "data_train['topicFlat'] = texts\n",
    "\n",
    "labels = data_train['target']\n",
    "\n",
    "# print(labels)\n",
    "data_train['topicFlat'].head()"
   ]
  },
  {
   "cell_type": "markdown",
   "metadata": {
    "_cell_guid": "4c0ec63b-cdf8-8e29-812b-0fbbfcea2929"
   },
   "source": [
    "Next, I am dropping the 'Neutral' sentiments as my goal was to only differentiate positive and negative tweets. After that, I am filtering the tweets so only valid texts and words remain.  Then, I define the number of max features as 2000 and use Tokenizer to vectorize and convert text into Sequences so the Network can deal with it as input."
   ]
  },
  {
   "cell_type": "code",
   "execution_count": 10,
   "metadata": {
    "_cell_guid": "43632d2d-6160-12ce-48b0-e5eb1c207076"
   },
   "outputs": [
    {
     "name": "stdout",
     "output_type": "stream",
     "text": [
      "[4, 17, 1, 2, 16, 42, 7, 47, 178, 56, 30, 1014, 395, 8, 160, 22, 38, 12, 201, 142, 10, 3, 17, 1640, 202, 433, 396, 307, 82, 145, 649]\n",
      "[   0    0    0    0    0    0    4   17    1    2   16   42    7   47  178\n",
      "   56   30 1014  395    8  160   22   38   12  201  142   10    3   17 1640\n",
      "  202  433  396  307   82  145  649]\n",
      "Found 6077 unique tokens.\n",
      "(1449, 37)\n"
     ]
    }
   ],
   "source": [
    "# data = data[data.sentiment != \"Neutral\"]\n",
    "# data['text'] = data['text'].apply(lambda x: x.lower())\n",
    "# data['text'] = data['text'].apply((lambda x: re.sub('[^a-zA-z0-9\\s]','',x)))\n",
    "\n",
    "# print(data[ data['sentiment'] == 'Positive'].size)\n",
    "# print(data[ data['sentiment'] == 'Negative'].size)\n",
    "\n",
    "# for idx,row in data.iterrows():\n",
    "#     row[0] = row[0].replace('rt',' ')\n",
    "    \n",
    "max_fatures = 2000\n",
    "tokenizer = Tokenizer(num_words=max_fatures, split=' ')\n",
    "tokenizer.fit_on_texts(data_train['topicFlat'].values)\n",
    "X = tokenizer.texts_to_sequences(data_train['topicFlat'].values)\n",
    "print(X[0])\n",
    "X = pad_sequences(X)\n",
    "print(X[0])\n",
    "\n",
    "word_index = tokenizer.word_index\n",
    "print('Found %s unique tokens.' % len(word_index)) # all the tokens in corpus\n",
    "\n",
    "print(X.shape)"
   ]
  },
  {
   "cell_type": "markdown",
   "metadata": {
    "_cell_guid": "9753421e-1303-77d5-b17f-5f25fa08c452"
   },
   "source": [
    "Next, I compose the LSTM Network. Note that **embed_dim**, **lstm_out**, **batch_size**, **droupout_x** variables are hyperparameters, their values are somehow intuitive, can be and must be played with in order to achieve good results. Please also note that I am using softmax as activation function. The reason is that our Network is using categorical crossentropy, and softmax is just the right activation method for that."
   ]
  },
  {
   "cell_type": "code",
   "execution_count": 11,
   "metadata": {
    "_cell_guid": "b35748b8-2353-3db2-e571-5fd22bb93eb0"
   },
   "outputs": [
    {
     "name": "stdout",
     "output_type": "stream",
     "text": [
      "[0 0 1]\n",
      "(1159, 37) (1159, 3)\n",
      "(290, 37) (290, 3)\n"
     ]
    }
   ],
   "source": [
    "# Y = data_train['target'].values\n",
    "\n",
    "Y = pd.get_dummies(data_train['label']).values\n",
    "X_train, X_test, Y_train, Y_test = train_test_split(X, Y, test_size = 0.2, random_state = 42)\n",
    "\n",
    "print(Y_train[100])\n",
    "print(X_train.shape,Y_train.shape)\n",
    "print(X_test.shape,Y_test.shape)"
   ]
  },
  {
   "cell_type": "code",
   "execution_count": 12,
   "metadata": {
    "collapsed": true
   },
   "outputs": [],
   "source": [
    "def plot_history(history):\n",
    "    # list all data in history\n",
    "    print(history.history.keys())\n",
    "    # summarize history for accuracy\n",
    "    plt.plot(history.history['acc'])\n",
    "    plt.plot(history.history['val_acc'])\n",
    "    plt.title('model accuracy')\n",
    "    plt.ylabel('accuracy')\n",
    "    plt.xlabel('epoch')\n",
    "    plt.legend(['train', 'test'], loc='upper left')\n",
    "    plt.show()\n",
    "    # summarize history for loss\n",
    "    plt.plot(history.history['loss'])\n",
    "    plt.plot(history.history['val_loss'])\n",
    "    plt.title('model loss')\n",
    "    plt.ylabel('loss')\n",
    "    plt.xlabel('epoch')\n",
    "    plt.legend(['train', 'test'], loc='upper left')\n",
    "    plt.show()"
   ]
  },
  {
   "cell_type": "code",
   "execution_count": 19,
   "metadata": {
    "_cell_guid": "1ba3cf60-a83c-9c21-05e0-b14303027e93"
   },
   "outputs": [
    {
     "name": "stdout",
     "output_type": "stream",
     "text": [
      "_________________________________________________________________\n",
      "Layer (type)                 Output Shape              Param #   \n",
      "=================================================================\n",
      "embedding_7 (Embedding)      (None, 37, 128)           256000    \n",
      "_________________________________________________________________\n",
      "lstm_6 (LSTM)                (None, 196)               254800    \n",
      "_________________________________________________________________\n",
      "dense_7 (Dense)              (None, 3)                 591       \n",
      "=================================================================\n",
      "Total params: 511,391\n",
      "Trainable params: 511,391\n",
      "Non-trainable params: 0\n",
      "_________________________________________________________________\n",
      "None\n",
      "Train on 1159 samples, validate on 290 samples\n",
      "Epoch 1/100\n",
      "1159/1159 [==============================] - 18s 16ms/step - loss: 1.0961 - acc: 0.3814 - val_loss: 1.0911 - val_acc: 0.4586\n",
      "Epoch 2/100\n",
      "1159/1159 [==============================] - 20s 17ms/step - loss: 1.0819 - acc: 0.4487 - val_loss: 1.0652 - val_acc: 0.4103\n",
      "Epoch 3/100\n",
      "1159/1159 [==============================] - 19s 17ms/step - loss: 1.0266 - acc: 0.3943 - val_loss: 0.9441 - val_acc: 0.4517\n",
      "Epoch 4/100\n",
      "1159/1159 [==============================] - 19s 16ms/step - loss: 0.8216 - acc: 0.5910 - val_loss: 0.7517 - val_acc: 0.6310\n",
      "Epoch 5/100\n",
      "1159/1159 [==============================] - 18s 16ms/step - loss: 0.6576 - acc: 0.7291 - val_loss: 0.6532 - val_acc: 0.7517\n",
      "Epoch 6/100\n",
      "1159/1159 [==============================] - 19s 16ms/step - loss: 0.5854 - acc: 0.7610 - val_loss: 0.6291 - val_acc: 0.7138\n",
      "Epoch 7/100\n",
      "1159/1159 [==============================] - 19s 16ms/step - loss: 0.5305 - acc: 0.7739 - val_loss: 0.5890 - val_acc: 0.7552\n",
      "Epoch 8/100\n",
      "1159/1159 [==============================] - 19s 16ms/step - loss: 0.4701 - acc: 0.8162 - val_loss: 0.5635 - val_acc: 0.7931\n",
      "Epoch 9/100\n",
      "1159/1159 [==============================] - 20s 17ms/step - loss: 0.4092 - acc: 0.8525 - val_loss: 0.5374 - val_acc: 0.7931\n",
      "Epoch 10/100\n",
      "1159/1159 [==============================] - 21s 19ms/step - loss: 0.3621 - acc: 0.8783 - val_loss: 0.5298 - val_acc: 0.8000\n",
      "Epoch 11/100\n",
      "1159/1159 [==============================] - 19s 16ms/step - loss: 0.3294 - acc: 0.8878 - val_loss: 0.5235 - val_acc: 0.8103\n",
      "Epoch 12/100\n",
      "1159/1159 [==============================] - 19s 16ms/step - loss: 0.2919 - acc: 0.9120 - val_loss: 0.5394 - val_acc: 0.8138\n",
      "Epoch 13/100\n",
      "1159/1159 [==============================] - 19s 16ms/step - loss: 0.2722 - acc: 0.9120 - val_loss: 0.5483 - val_acc: 0.8069\n",
      "Epoch 14/100\n",
      "1159/1159 [==============================] - 19s 16ms/step - loss: 0.3180 - acc: 0.8835 - val_loss: 0.5325 - val_acc: 0.8345\n",
      "Epoch 15/100\n",
      "1159/1159 [==============================] - 19s 16ms/step - loss: 0.2283 - acc: 0.9223 - val_loss: 0.5652 - val_acc: 0.8241\n",
      "Epoch 16/100\n",
      "1159/1159 [==============================] - 19s 17ms/step - loss: 0.2085 - acc: 0.9362 - val_loss: 0.5680 - val_acc: 0.8241\n",
      "Epoch 00016: early stopping\n",
      "290/290 [==============================] - 2s 5ms/step\n",
      "Test score: 0.568043890904\n",
      "Test accuracy: 0.824137931034\n",
      "dict_keys(['val_loss', 'loss', 'val_acc', 'acc'])\n"
     ]
    },
    {
     "data": {
      "image/png": "[encoded data removed]",
      "text/plain": [
       "<matplotlib.figure.Figure at 0x7fa104f1b400>"
      ]
     },
     "metadata": {},
     "output_type": "display_data"
    },
    {
     "data": {
      "image/png": "[encoded data removed]",
      "text/plain": [
       "<matplotlib.figure.Figure at 0x7fa10109ccf8>"
      ]
     },
     "metadata": {},
     "output_type": "display_data"
    }
   ],
   "source": [
    "embed_dim = 128\n",
    "lstm_out = 196\n",
    "epochs = 100\n",
    "\n",
    "sequence_length = X.shape[1] # \n",
    "\n",
    "model = Sequential()\n",
    "model.add(Embedding(max_fatures, embed_dim, input_length=sequence_length))\n",
    "model.add(LSTM(lstm_out, dropout=0.2, recurrent_dropout=0.2))\n",
    "model.add(Dense(len(label_cat), activation='softmax'))\n",
    "\n",
    "adam = Adam(lr=1e-4, beta_1=0.9, beta_2=0.999, epsilon=1e-08, decay=0.0)\n",
    "\n",
    "model.compile(loss = 'categorical_crossentropy',\n",
    "              optimizer=adam, metrics = ['accuracy'])\n",
    "print(model.summary())\n",
    "\n",
    "\n",
    "batch_size = 32\n",
    "\n",
    "model_name = 'topicConvNet-Reg.h5'\n",
    "early_stop = EarlyStopping(monitor='val_loss', patience=5, verbose=1)\n",
    "# checkpoint = ModelCheckpoint(model_name, verbose=0, save_best_only=True)\n",
    "\n",
    "checkpoint = ModelCheckpoint('weights.{epoch:03d}-{val_acc:.4f}.hdf5', \n",
    "                             monitor='val_acc', verbose=0, save_best_only=True, mode='max')\n",
    "\n",
    "network_hist = model.fit(X_train, Y_train, epochs = epochs, \n",
    "                         validation_data=(X_test, Y_test), \n",
    "                         callbacks=[early_stop, checkpoint],\n",
    "                         validation_split=0.2,\n",
    "                         verbose=1, batch_size=batch_size)\n",
    "\n",
    "score, acc = model.evaluate(X_test, Y_test)\n",
    "print('Test score:', score)\n",
    "print('Test accuracy:', acc)\n",
    "\n",
    "# print(network_hist.history)\n",
    "plot_history(network_hist)"
   ]
  },
  {
   "cell_type": "markdown",
   "metadata": {
    "_cell_guid": "d5e499ac-2eba-6ff7-8d9a-ff65eb04099b"
   },
   "source": [
    "# CNN-text-classification"
   ]
  },
  {
   "cell_type": "code",
   "execution_count": 15,
   "metadata": {
    "_cell_guid": "a970f412-722f-6d6d-72c8-325d0901ccef"
   },
   "outputs": [
    {
     "name": "stdout",
     "output_type": "stream",
     "text": [
      "37\n",
      "1449\n",
      "Creating Model...\n",
      "__________________________________________________________________________________________________\n",
      "Layer (type)                    Output Shape         Param #     Connected to                     \n",
      "==================================================================================================\n",
      "input_1 (InputLayer)            (None, 37)           0                                            \n",
      "__________________________________________________________________________________________________\n",
      "embedding_3 (Embedding)         (None, 37, 256)      1555712     input_1[0][0]                    \n",
      "__________________________________________________________________________________________________\n",
      "reshape_1 (Reshape)             (None, 37, 256, 1)   0           embedding_3[0][0]                \n",
      "__________________________________________________________________________________________________\n",
      "conv2d_1 (Conv2D)               (None, 35, 1, 128)   98432       reshape_1[0][0]                  \n",
      "__________________________________________________________________________________________________\n",
      "conv2d_2 (Conv2D)               (None, 34, 1, 128)   131200      reshape_1[0][0]                  \n",
      "__________________________________________________________________________________________________\n",
      "conv2d_3 (Conv2D)               (None, 33, 1, 128)   163968      reshape_1[0][0]                  \n",
      "__________________________________________________________________________________________________\n",
      "max_pooling2d_1 (MaxPooling2D)  (None, 1, 1, 128)    0           conv2d_1[0][0]                   \n",
      "__________________________________________________________________________________________________\n",
      "max_pooling2d_2 (MaxPooling2D)  (None, 1, 1, 128)    0           conv2d_2[0][0]                   \n",
      "__________________________________________________________________________________________________\n",
      "max_pooling2d_3 (MaxPooling2D)  (None, 1, 1, 128)    0           conv2d_3[0][0]                   \n",
      "__________________________________________________________________________________________________\n",
      "concatenate_1 (Concatenate)     (None, 3, 1, 128)    0           max_pooling2d_1[0][0]            \n",
      "                                                                 max_pooling2d_2[0][0]            \n",
      "                                                                 max_pooling2d_3[0][0]            \n",
      "__________________________________________________________________________________________________\n",
      "flatten_1 (Flatten)             (None, 384)          0           concatenate_1[0][0]              \n",
      "__________________________________________________________________________________________________\n",
      "dropout_1 (Dropout)             (None, 384)          0           flatten_1[0][0]                  \n",
      "__________________________________________________________________________________________________\n",
      "dense_3 (Dense)                 (None, 3)            1155        dropout_1[0][0]                  \n",
      "==================================================================================================\n",
      "Total params: 1,950,467\n",
      "Trainable params: 1,950,467\n",
      "Non-trainable params: 0\n",
      "__________________________________________________________________________________________________\n",
      "None\n",
      "Traning Model...\n",
      "Train on 1159 samples, validate on 290 samples\n",
      "Epoch 1/100\n",
      "1159/1159 [==============================] - 35s 30ms/step - loss: 1.0918 - acc: 0.3624 - val_loss: 1.0652 - val_acc: 0.5655\n",
      "Epoch 2/100\n",
      "1159/1159 [==============================] - 35s 30ms/step - loss: 1.0286 - acc: 0.5548 - val_loss: 1.0347 - val_acc: 0.5552\n",
      "Epoch 3/100\n",
      "1159/1159 [==============================] - 37s 32ms/step - loss: 0.9856 - acc: 0.6005 - val_loss: 1.0083 - val_acc: 0.5655\n",
      "Epoch 4/100\n",
      "1159/1159 [==============================] - 35s 30ms/step - loss: 0.9396 - acc: 0.6885 - val_loss: 0.9806 - val_acc: 0.5862\n",
      "Epoch 5/100\n",
      "1159/1159 [==============================] - 34s 30ms/step - loss: 0.8931 - acc: 0.7498 - val_loss: 0.9497 - val_acc: 0.6345\n",
      "Epoch 6/100\n",
      "1159/1159 [==============================] - 36s 31ms/step - loss: 0.8451 - acc: 0.8171 - val_loss: 0.9125 - val_acc: 0.7103\n",
      "Epoch 7/100\n",
      "1159/1159 [==============================] - 35s 31ms/step - loss: 0.7908 - acc: 0.8801 - val_loss: 0.8699 - val_acc: 0.7724\n",
      "Epoch 8/100\n",
      "1159/1159 [==============================] - 34s 29ms/step - loss: 0.7347 - acc: 0.8965 - val_loss: 0.8222 - val_acc: 0.8034\n",
      "Epoch 9/100\n",
      "1159/1159 [==============================] - 32s 28ms/step - loss: 0.6746 - acc: 0.8939 - val_loss: 0.7711 - val_acc: 0.8207\n",
      "Epoch 10/100\n",
      "1159/1159 [==============================] - 31s 27ms/step - loss: 0.6135 - acc: 0.9068 - val_loss: 0.7182 - val_acc: 0.8241\n",
      "Epoch 11/100\n",
      "1159/1159 [==============================] - 30s 26ms/step - loss: 0.5543 - acc: 0.9111 - val_loss: 0.6663 - val_acc: 0.8241\n",
      "Epoch 12/100\n",
      "1159/1159 [==============================] - 30s 26ms/step - loss: 0.4998 - acc: 0.9137 - val_loss: 0.6215 - val_acc: 0.8379\n",
      "Epoch 13/100\n",
      "1159/1159 [==============================] - 30s 26ms/step - loss: 0.4493 - acc: 0.9137 - val_loss: 0.5799 - val_acc: 0.8483\n",
      "Epoch 14/100\n",
      "1159/1159 [==============================] - 30s 26ms/step - loss: 0.4053 - acc: 0.9180 - val_loss: 0.5488 - val_acc: 0.8517\n",
      "Epoch 15/100\n",
      "1159/1159 [==============================] - 30s 26ms/step - loss: 0.3672 - acc: 0.9223 - val_loss: 0.5226 - val_acc: 0.8483\n",
      "Epoch 16/100\n",
      "1159/1159 [==============================] - 30s 26ms/step - loss: 0.3351 - acc: 0.9284 - val_loss: 0.5015 - val_acc: 0.8483\n",
      "Epoch 17/100\n",
      "1159/1159 [==============================] - 30s 26ms/step - loss: 0.3067 - acc: 0.9310 - val_loss: 0.4844 - val_acc: 0.8448\n",
      "Epoch 18/100\n",
      "1159/1159 [==============================] - 30s 26ms/step - loss: 0.2849 - acc: 0.9387 - val_loss: 0.4725 - val_acc: 0.8448\n",
      "Epoch 19/100\n",
      "1159/1159 [==============================] - 31s 26ms/step - loss: 0.2657 - acc: 0.9387 - val_loss: 0.4616 - val_acc: 0.8448\n",
      "Epoch 20/100\n",
      "1159/1159 [==============================] - 34s 29ms/step - loss: 0.2447 - acc: 0.9465 - val_loss: 0.4538 - val_acc: 0.8483\n",
      "Epoch 21/100\n",
      "1159/1159 [==============================] - 33s 28ms/step - loss: 0.2263 - acc: 0.9508 - val_loss: 0.4466 - val_acc: 0.8483\n",
      "Epoch 22/100\n",
      "1159/1159 [==============================] - 32s 28ms/step - loss: 0.2094 - acc: 0.9560 - val_loss: 0.4422 - val_acc: 0.8517\n",
      "Epoch 23/100\n",
      "1159/1159 [==============================] - 32s 28ms/step - loss: 0.1927 - acc: 0.9603 - val_loss: 0.4373 - val_acc: 0.8517\n",
      "Epoch 24/100\n",
      "1159/1159 [==============================] - 32s 28ms/step - loss: 0.1784 - acc: 0.9646 - val_loss: 0.4342 - val_acc: 0.8483\n",
      "Epoch 25/100\n",
      "1159/1159 [==============================] - 33s 28ms/step - loss: 0.1656 - acc: 0.9672 - val_loss: 0.4306 - val_acc: 0.8517\n",
      "Epoch 26/100\n",
      "1159/1159 [==============================] - 38s 33ms/step - loss: 0.1520 - acc: 0.9741 - val_loss: 0.4287 - val_acc: 0.8517\n",
      "Epoch 27/100\n",
      "1159/1159 [==============================] - 38s 33ms/step - loss: 0.1461 - acc: 0.9724 - val_loss: 0.4265 - val_acc: 0.8517\n",
      "Epoch 28/100\n",
      "1159/1159 [==============================] - 35s 30ms/step - loss: 0.1345 - acc: 0.9776 - val_loss: 0.4256 - val_acc: 0.8448\n",
      "Epoch 29/100\n",
      "1159/1159 [==============================] - 37s 32ms/step - loss: 0.1252 - acc: 0.9802 - val_loss: 0.4250 - val_acc: 0.8448\n",
      "Epoch 30/100\n",
      "1159/1159 [==============================] - 38s 33ms/step - loss: 0.1134 - acc: 0.9836 - val_loss: 0.4244 - val_acc: 0.8448\n",
      "Epoch 31/100\n",
      "1159/1159 [==============================] - 37s 32ms/step - loss: 0.1062 - acc: 0.9888 - val_loss: 0.4241 - val_acc: 0.8483\n",
      "Epoch 32/100\n",
      "1159/1159 [==============================] - 37s 32ms/step - loss: 0.0996 - acc: 0.9888 - val_loss: 0.4239 - val_acc: 0.8483\n",
      "Epoch 33/100\n",
      "1159/1159 [==============================] - 36s 31ms/step - loss: 0.0920 - acc: 0.9896 - val_loss: 0.4242 - val_acc: 0.8517\n",
      "Epoch 34/100\n",
      "1159/1159 [==============================] - 37s 32ms/step - loss: 0.0842 - acc: 0.9965 - val_loss: 0.4246 - val_acc: 0.8517\n",
      "Epoch 35/100\n",
      "1159/1159 [==============================] - 37s 32ms/step - loss: 0.0786 - acc: 0.9983 - val_loss: 0.4256 - val_acc: 0.8517\n",
      "Epoch 36/100\n"
     ]
    },
    {
     "name": "stdout",
     "output_type": "stream",
     "text": [
      "1159/1159 [==============================] - 36s 31ms/step - loss: 0.0741 - acc: 0.9974 - val_loss: 0.4258 - val_acc: 0.8517\n",
      "Epoch 00036: early stopping\n",
      "290/290 [==============================] - 1s 2ms/step\n",
      "Test score: 0.425814135321\n",
      "Test accuracy: 0.851724137931\n",
      "dict_keys(['val_loss', 'loss', 'val_acc', 'acc'])\n"
     ]
    },
    {
     "data": {
      "image/png": "[encoded data removed]",
      "text/plain": [
       "<matplotlib.figure.Figure at 0x7fa10b79f2e8>"
      ]
     },
     "metadata": {},
     "output_type": "display_data"
    },
    {
     "data": {
      "image/png": "[encoded data removed]",
      "text/plain": [
       "<matplotlib.figure.Figure at 0x7fa12ce5ecf8>"
      ]
     },
     "metadata": {},
     "output_type": "display_data"
    },
    {
     "name": "stdout",
     "output_type": "stream",
     "text": [
      "CPU times: user 37min 34s, sys: 1h 55min 53s, total: 2h 33min 27s\n",
      "Wall time: 20min 21s\n"
     ]
    }
   ],
   "source": [
    "%%time \n",
    "\n",
    "# Source\n",
    "# https://github.com/bhaveshoswal/CNN-text-classification-keras/blob/master/model.py\n",
    "\n",
    "sequence_length = X.shape[1] # \n",
    "print(sequence_length)\n",
    "print(len(X))\n",
    "\n",
    "vocabulary_size = len(word_index) # \n",
    "embedding_dim = 256\n",
    "filter_sizes = [3,4,5]\n",
    "num_filters = 128 # 512\n",
    "drop = 0.2\n",
    "\n",
    "epochs = 100\n",
    "batch_size = 30\n",
    "\n",
    "# this returns a tensor\n",
    "print(\"Creating Model...\")\n",
    "inputs = Input(shape=(sequence_length,), dtype='int32')\n",
    "embedding = Embedding(input_dim=vocabulary_size, output_dim=embedding_dim, \n",
    "                      input_length=sequence_length)(inputs)\n",
    "reshape = Reshape((sequence_length,embedding_dim,1))(embedding)\n",
    "\n",
    "conv_0 = Conv2D(num_filters, kernel_size=(filter_sizes[0], embedding_dim), \n",
    "                padding='valid', kernel_initializer='normal', activation='relu')(reshape)\n",
    "conv_1 = Conv2D(num_filters, kernel_size=(filter_sizes[1], embedding_dim), \n",
    "                padding='valid', kernel_initializer='normal', activation='relu')(reshape)\n",
    "conv_2 = Conv2D(num_filters, kernel_size=(filter_sizes[2], embedding_dim), \n",
    "                padding='valid', kernel_initializer='normal', activation='relu')(reshape)\n",
    "\n",
    "maxpool_0 = MaxPool2D(pool_size=(sequence_length - filter_sizes[0] + 1, 1), \n",
    "                      strides=(1,1), padding='valid')(conv_0)\n",
    "maxpool_1 = MaxPool2D(pool_size=(sequence_length - filter_sizes[1] + 1, 1), \n",
    "                      strides=(1,1), padding='valid')(conv_1)\n",
    "maxpool_2 = MaxPool2D(pool_size=(sequence_length - filter_sizes[2] + 1, 1), \n",
    "                      strides=(1,1), padding='valid')(conv_2)\n",
    "\n",
    "concatenated_tensor = Concatenate(axis=1)([maxpool_0, maxpool_1, maxpool_2])\n",
    "flatten = Flatten()(concatenated_tensor)\n",
    "dropout = Dropout(drop)(flatten)\n",
    "output = Dense(units=len(label_cat), activation='softmax')(dropout)\n",
    "\n",
    "# this creates a model that includes\n",
    "model = Model(inputs=inputs, outputs=output)\n",
    "print(model.summary())\n",
    "\n",
    "\n",
    "early_stop = EarlyStopping(monitor='val_loss', patience=4, verbose=1)\n",
    "checkpoint = ModelCheckpoint('weights.{epoch:03d}-{val_acc:.4f}.hdf5', \n",
    "                             monitor='val_acc', verbose=0, \n",
    "                             save_best_only=True, mode='auto')\n",
    "\n",
    "adam = Adam(lr=1e-4, beta_1=0.9, beta_2=0.999, epsilon=1e-08, decay=0.0)\n",
    "\n",
    "model.compile(optimizer=adam, loss='categorical_crossentropy', \n",
    "              metrics=['accuracy'])\n",
    "print(\"Traning Model...\")\n",
    "network_hist = model.fit(X_train, Y_train, batch_size=batch_size, \n",
    "                         epochs=epochs, verbose=1, \n",
    "                         callbacks=[early_stop, checkpoint], \n",
    "                         validation_data=(X_test, Y_test))  # starts training\n",
    "\n",
    "score, acc = model.evaluate(X_test, Y_test)\n",
    "print('Test score:', score)\n",
    "print('Test accuracy:', acc)\n",
    "\n",
    "# print(network_hist.history)\n",
    "plot_history(network_hist)"
   ]
  },
  {
   "cell_type": "code",
   "execution_count": null,
   "metadata": {
    "_cell_guid": "24c64f46-edd1-8d0b-7c7c-ef50fd26b2fd"
   },
   "outputs": [],
   "source": []
  },
  {
   "cell_type": "code",
   "execution_count": null,
   "metadata": {
    "collapsed": true
   },
   "outputs": [],
   "source": []
  }
 ],
 "metadata": {
  "_change_revision": 185,
  "_is_fork": false,
  "kernelspec": {
   "display_name": "Python 3",
   "language": "python",
   "name": "python3"
  },
  "language_info": {
   "codemirror_mode": {
    "name": "ipython",
    "version": 3
   },
   "file_extension": ".py",
   "mimetype": "text/x-python",
   "name": "python",
   "nbconvert_exporter": "python",
   "pygments_lexer": "ipython3",
   "version": "3.5.2"
  }
 },
 "nbformat": 4,
 "nbformat_minor": 1
}
